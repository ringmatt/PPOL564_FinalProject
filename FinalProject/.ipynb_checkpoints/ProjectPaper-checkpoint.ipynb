{
 "cells": [
  {
   "cell_type": "markdown",
   "metadata": {},
   "source": [
    "# Impact of Work-Related Factors on Happiness\n",
    "Author: Matt Ring <br>\n",
    "Word Count:"
   ]
  },
  {
   "cell_type": "markdown",
   "metadata": {},
   "source": [
    "# 1. Introduction"
   ]
  },
  {
   "cell_type": "markdown",
   "metadata": {},
   "source": [
    "## Aim of Project\n",
    "* Determine the impact of work on life satisfaction"
   ]
  },
  {
   "cell_type": "markdown",
   "metadata": {},
   "source": [
    "## Roadmap\n",
    "* Problem Statement and Literature Review\n",
    "* Data\n",
    "    * Where it was taken from\n",
    "    * How it was wrangled\n",
    "    * Description of finalized data\n",
    "* Analysis"
   ]
  },
  {
   "cell_type": "markdown",
   "metadata": {},
   "source": [
    "# 2. Problem Statement and Background"
   ]
  },
  {
   "cell_type": "markdown",
   "metadata": {},
   "source": [
    "## Statement of the Aim of Analysis\n",
    "* Problem Statement\n",
    "    * Definition of Success\n",
    "    * Reasoning for selecting this statement"
   ]
  },
  {
   "cell_type": "markdown",
   "metadata": {},
   "source": [
    "## Literature Review\n",
    "* Brief summary of any related work\n",
    "    * Fixed effects\n",
    "    * Happiness analysis\n",
    "    * Job satisfaction"
   ]
  },
  {
   "cell_type": "markdown",
   "metadata": {},
   "source": [
    "# 3. Data\n"
   ]
  },
  {
   "cell_type": "markdown",
   "metadata": {},
   "source": [
    "## Where the Data Came From\n",
    "* ILO - Labor statistics\n",
    "* Maddison Project - GDPpc\n",
    "* OWiD - Happiness\n",
    "* VDems - Policy\n",
    "* merged by country and year"
   ]
  },
  {
   "cell_type": "markdown",
   "metadata": {},
   "source": [
    "## Data Wrangling Steps\n",
    "1. Import\n",
    "2. Pre-Merge Cleaning\n",
    "    1. Renaming, removal, and creation of variables\n",
    "    2. Country Converter used to standarize names\n",
    "    2. Inequality Variable Construction\n",
    "        1. Difference (Between top 20% and bottom 50%)\n",
    "        2. Fractinal (Between top 20% an bottom 20%)\n",
    "3. Merged by Country and Year\n",
    "4. Exploration\n",
    "    1. Missingness\n",
    "        1. Removed Observations missing all but life satisfaction\n",
    "        2. Saving Full Dataset\n",
    "    2. Multiple Datasets\n",
    "        1. Accommadate for the fact that there are many missing values, and it would be preferable to fill these in than remove an entire column.\n",
    "        2. Variables Removed: Union Density\n",
    "        3. Create imputed dataset\n",
    "            * How wa imputation accomplished? What method?\n",
    "        4. Saving Imputed Dataset\n",
    "    3. Correlation\n",
    "        1. Removed: Inequality difference, Regime Type, Average Hours Worked (Correlates with Statutory minimum wage)\n",
    "5. Saving Restricted Dataset"
   ]
  },
  {
   "cell_type": "markdown",
   "metadata": {},
   "source": [
    "## Description of Data\n",
    "* Four Datasets\n",
    "    * Differences (Variables and Observations)\n",
    "    * Why I selected them \n",
    "        * Tradeoff between more observations or more variables.\n",
    "        * Union was added despite the lack of observations because that was my end goal. \n",
    "* Unit of Observation\n",
    "    * Country-wide Cantril ladder life satisfaction by year\n",
    "        * Selected due to data restrictions. Selecting by individual would be preferable.\n",
    "* Variables of Interest\n",
    "    * Labor Statistics and Happiness\n",
    "* Potential Issues\n",
    "    * Missingness"
   ]
  },
  {
   "cell_type": "markdown",
   "metadata": {},
   "source": [
    "# 4. Analysis\n",
    "* Assume no knowledge of topic but general intelligence"
   ]
  },
  {
   "cell_type": "markdown",
   "metadata": {},
   "source": [
    "## Fixed Effects\n",
    "* What is Fixed Effects? What does it do?\n",
    "    * Changed countries into dummy variables and ran a massive OLS\n",
    "* Why was fixed effects used?\n",
    "    * Possible culturally relevant differences in life satisfaction (ie what causes happiness in one culture may not for another.)\n",
    "* Different Data\n",
    "    * Why was this done|? What was the benefit of this?"
   ]
  },
  {
   "cell_type": "markdown",
   "metadata": {},
   "source": [
    "## Machine Learning Pipeline\n",
    "\n",
    "### LR\n",
    "* What is LR?\n",
    "* Why was it selected?\n",
    "* What parameters were used?\n",
    "\n",
    "### KNN\n",
    "* What is KNN?\n",
    "* Why was it selected?\n",
    "* What parameters were used?\n",
    "\n",
    "### Random Forest\n",
    "* What is RF?\n",
    "* Why was it selected?\n",
    "* What parameters were used?\n",
    "\n",
    "### Support Vector Regression\n",
    "* What is SVR?\n",
    "* Why was it selected?\n",
    "* What parameters were used?\n"
   ]
  },
  {
   "cell_type": "markdown",
   "metadata": {},
   "source": [
    "# 5. Results\n",
    "* Detailed summary of results\n",
    "    * Report RMSE as standard deviations of the dependent variable\n",
    "* Clear and concise\n",
    "* Used visualizations whenever possible/appropriate"
   ]
  },
  {
   "cell_type": "code",
   "execution_count": null,
   "metadata": {},
   "outputs": [],
   "source": []
  },
  {
   "cell_type": "markdown",
   "metadata": {},
   "source": [
    "# 6. Discussion\n",
    "* \"Success of project\" as defined in proposal\n",
    "    * Did they achieve their goal? If not, why not?\n",
    "* Future work"
   ]
  },
  {
   "cell_type": "code",
   "execution_count": null,
   "metadata": {},
   "outputs": [],
   "source": []
  },
  {
   "cell_type": "markdown",
   "metadata": {},
   "source": [
    "# Sources"
   ]
  },
  {
   "cell_type": "code",
   "execution_count": null,
   "metadata": {},
   "outputs": [],
   "source": []
  }
 ],
 "metadata": {
  "kernelspec": {
   "display_name": "Python 3",
   "language": "python",
   "name": "python3"
  },
  "language_info": {
   "codemirror_mode": {
    "name": "ipython",
    "version": 3
   },
   "file_extension": ".py",
   "mimetype": "text/x-python",
   "name": "python",
   "nbconvert_exporter": "python",
   "pygments_lexer": "ipython3",
   "version": "3.8.6"
  }
 },
 "nbformat": 4,
 "nbformat_minor": 4
}
