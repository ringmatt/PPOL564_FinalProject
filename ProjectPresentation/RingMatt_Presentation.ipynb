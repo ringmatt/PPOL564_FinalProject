{
 "cells": [
  {
   "cell_type": "code",
   "execution_count": 20,
   "metadata": {
    "slideshow": {
     "slide_type": "skip"
    }
   },
   "outputs": [],
   "source": [
    "import pandas as pd\n",
    "from IPython.display import HTML\n",
    "HTML('''<style>.CodeMirror{min-width:100% !important;}</style>''')\n",
    "\n",
    "df = pd.read_csv(\"Data/GeneratedData/Raw_Data.csv\", index_col = \"Unnamed: 0\")"
   ]
  },
  {
   "cell_type": "markdown",
   "metadata": {
    "slideshow": {
     "slide_type": "slide"
    }
   },
   "source": [
    "# Impact of Work-Related Factors on Happiness\n",
    "\n",
    "By: Matt Ring\n",
    "\n",
    "# <u> Problem Statement <u>\n",
    "\n",
    "\"How might factors such as union membership, wages, and working time relate to life satisfaction?\""
   ]
  },
  {
   "cell_type": "markdown",
   "metadata": {
    "slideshow": {
     "slide_type": "slide"
    }
   },
   "source": [
    "# <u> Background <u>\n",
    "\n",
    "## Reasoning\n",
    "*  Much of life is spent at work\n",
    "\n",
    "## Data\n",
    "* 1716 Observations\n",
    "* Sources\n",
    "    * International Labor Organization Statistics\n",
    "    * Our World in Data\n",
    "    * Varieties of Democracy\n",
    "    * Maddison Project Database 2020"
   ]
  },
  {
   "cell_type": "code",
   "execution_count": 21,
   "metadata": {
    "slideshow": {
     "slide_type": "subslide"
    }
   },
   "outputs": [
    {
     "data": {
      "text/html": [
       "<div>\n",
       "<style scoped>\n",
       "    .dataframe tbody tr th:only-of-type {\n",
       "        vertical-align: middle;\n",
       "    }\n",
       "\n",
       "    .dataframe tbody tr th {\n",
       "        vertical-align: top;\n",
       "    }\n",
       "\n",
       "    .dataframe thead th {\n",
       "        text-align: right;\n",
       "    }\n",
       "</style>\n",
       "<table border=\"1\" class=\"dataframe\">\n",
       "  <thead>\n",
       "    <tr style=\"text-align: right;\">\n",
       "      <th></th>\n",
       "      <th>Country</th>\n",
       "      <th>Year</th>\n",
       "      <th>Life_Satisfaction</th>\n",
       "      <th>EDI</th>\n",
       "      <th>Suffrage</th>\n",
       "      <th>Diag_Account</th>\n",
       "      <th>AFI</th>\n",
       "      <th>Democracy</th>\n",
       "      <th>GDPpc</th>\n",
       "      <th>Avg_Hours_Worked</th>\n",
       "      <th>U_Coverage</th>\n",
       "      <th>U_Density</th>\n",
       "      <th>Ineq_Diff</th>\n",
       "      <th>Ineq_Frac</th>\n",
       "    </tr>\n",
       "  </thead>\n",
       "  <tbody>\n",
       "    <tr>\n",
       "      <th>1218</th>\n",
       "      <td>Poland</td>\n",
       "      <td>2005</td>\n",
       "      <td>5.587209</td>\n",
       "      <td>0.877</td>\n",
       "      <td>100.0</td>\n",
       "      <td>0.952</td>\n",
       "      <td>0.963</td>\n",
       "      <td>1.0</td>\n",
       "      <td>15580.936718</td>\n",
       "      <td>NaN</td>\n",
       "      <td>18.1</td>\n",
       "      <td>18.1</td>\n",
       "      <td>24.883406</td>\n",
       "      <td>8.972356</td>\n",
       "    </tr>\n",
       "    <tr>\n",
       "      <th>626</th>\n",
       "      <td>Hong Kong</td>\n",
       "      <td>2011</td>\n",
       "      <td>5.474011</td>\n",
       "      <td>0.365</td>\n",
       "      <td>100.0</td>\n",
       "      <td>0.891</td>\n",
       "      <td>0.722</td>\n",
       "      <td>0.0</td>\n",
       "      <td>44532.000000</td>\n",
       "      <td>NaN</td>\n",
       "      <td>24.7</td>\n",
       "      <td>24.7</td>\n",
       "      <td>25.735734</td>\n",
       "      <td>12.383217</td>\n",
       "    </tr>\n",
       "    <tr>\n",
       "      <th>573</th>\n",
       "      <td>Greece</td>\n",
       "      <td>2016</td>\n",
       "      <td>5.302619</td>\n",
       "      <td>0.872</td>\n",
       "      <td>100.0</td>\n",
       "      <td>0.954</td>\n",
       "      <td>NaN</td>\n",
       "      <td>1.0</td>\n",
       "      <td>22574.000000</td>\n",
       "      <td>NaN</td>\n",
       "      <td>18.6</td>\n",
       "      <td>18.6</td>\n",
       "      <td>13.778164</td>\n",
       "      <td>6.157404</td>\n",
       "    </tr>\n",
       "    <tr>\n",
       "      <th>799</th>\n",
       "      <td>Kosovo</td>\n",
       "      <td>2016</td>\n",
       "      <td>5.759412</td>\n",
       "      <td>NaN</td>\n",
       "      <td>NaN</td>\n",
       "      <td>NaN</td>\n",
       "      <td>NaN</td>\n",
       "      <td>NaN</td>\n",
       "      <td>NaN</td>\n",
       "      <td>NaN</td>\n",
       "      <td>NaN</td>\n",
       "      <td>NaN</td>\n",
       "      <td>NaN</td>\n",
       "      <td>NaN</td>\n",
       "    </tr>\n",
       "    <tr>\n",
       "      <th>850</th>\n",
       "      <td>Lebanon</td>\n",
       "      <td>2012</td>\n",
       "      <td>4.572567</td>\n",
       "      <td>0.520</td>\n",
       "      <td>100.0</td>\n",
       "      <td>0.838</td>\n",
       "      <td>0.645</td>\n",
       "      <td>1.0</td>\n",
       "      <td>16315.000000</td>\n",
       "      <td>NaN</td>\n",
       "      <td>NaN</td>\n",
       "      <td>NaN</td>\n",
       "      <td>39.693419</td>\n",
       "      <td>17.541279</td>\n",
       "    </tr>\n",
       "    <tr>\n",
       "      <th>935</th>\n",
       "      <td>Malaysia</td>\n",
       "      <td>2013</td>\n",
       "      <td>5.770200</td>\n",
       "      <td>0.317</td>\n",
       "      <td>100.0</td>\n",
       "      <td>0.503</td>\n",
       "      <td>0.599</td>\n",
       "      <td>0.0</td>\n",
       "      <td>20760.000000</td>\n",
       "      <td>NaN</td>\n",
       "      <td>9.4</td>\n",
       "      <td>9.4</td>\n",
       "      <td>30.650278</td>\n",
       "      <td>14.933027</td>\n",
       "    </tr>\n",
       "    <tr>\n",
       "      <th>1005</th>\n",
       "      <td>Mongolia</td>\n",
       "      <td>2008</td>\n",
       "      <td>4.493010</td>\n",
       "      <td>0.667</td>\n",
       "      <td>100.0</td>\n",
       "      <td>0.938</td>\n",
       "      <td>0.912</td>\n",
       "      <td>1.0</td>\n",
       "      <td>6982.146430</td>\n",
       "      <td>46.7338</td>\n",
       "      <td>NaN</td>\n",
       "      <td>NaN</td>\n",
       "      <td>43.051582</td>\n",
       "      <td>24.413432</td>\n",
       "    </tr>\n",
       "    <tr>\n",
       "      <th>1543</th>\n",
       "      <td>Tunisia</td>\n",
       "      <td>2018</td>\n",
       "      <td>4.741132</td>\n",
       "      <td>0.729</td>\n",
       "      <td>100.0</td>\n",
       "      <td>0.918</td>\n",
       "      <td>0.727</td>\n",
       "      <td>1.0</td>\n",
       "      <td>11353.886488</td>\n",
       "      <td>NaN</td>\n",
       "      <td>NaN</td>\n",
       "      <td>NaN</td>\n",
       "      <td>NaN</td>\n",
       "      <td>NaN</td>\n",
       "    </tr>\n",
       "    <tr>\n",
       "      <th>544</th>\n",
       "      <td>Germany</td>\n",
       "      <td>2011</td>\n",
       "      <td>6.621312</td>\n",
       "      <td>0.876</td>\n",
       "      <td>100.0</td>\n",
       "      <td>0.965</td>\n",
       "      <td>0.956</td>\n",
       "      <td>1.0</td>\n",
       "      <td>43189.000000</td>\n",
       "      <td>NaN</td>\n",
       "      <td>18.4</td>\n",
       "      <td>18.4</td>\n",
       "      <td>20.910358</td>\n",
       "      <td>11.179453</td>\n",
       "    </tr>\n",
       "    <tr>\n",
       "      <th>739</th>\n",
       "      <td>Japan</td>\n",
       "      <td>2007</td>\n",
       "      <td>6.238198</td>\n",
       "      <td>0.836</td>\n",
       "      <td>100.0</td>\n",
       "      <td>0.927</td>\n",
       "      <td>0.748</td>\n",
       "      <td>1.0</td>\n",
       "      <td>35892.712773</td>\n",
       "      <td>NaN</td>\n",
       "      <td>18.1</td>\n",
       "      <td>18.1</td>\n",
       "      <td>27.128777</td>\n",
       "      <td>13.112454</td>\n",
       "    </tr>\n",
       "  </tbody>\n",
       "</table>\n",
       "</div>"
      ],
      "text/plain": [
       "        Country  Year  Life_Satisfaction    EDI  Suffrage  Diag_Account  \\\n",
       "1218     Poland  2005           5.587209  0.877     100.0         0.952   \n",
       "626   Hong Kong  2011           5.474011  0.365     100.0         0.891   \n",
       "573      Greece  2016           5.302619  0.872     100.0         0.954   \n",
       "799      Kosovo  2016           5.759412    NaN       NaN           NaN   \n",
       "850     Lebanon  2012           4.572567  0.520     100.0         0.838   \n",
       "935    Malaysia  2013           5.770200  0.317     100.0         0.503   \n",
       "1005   Mongolia  2008           4.493010  0.667     100.0         0.938   \n",
       "1543    Tunisia  2018           4.741132  0.729     100.0         0.918   \n",
       "544     Germany  2011           6.621312  0.876     100.0         0.965   \n",
       "739       Japan  2007           6.238198  0.836     100.0         0.927   \n",
       "\n",
       "        AFI  Democracy         GDPpc  Avg_Hours_Worked  U_Coverage  U_Density  \\\n",
       "1218  0.963        1.0  15580.936718               NaN        18.1       18.1   \n",
       "626   0.722        0.0  44532.000000               NaN        24.7       24.7   \n",
       "573     NaN        1.0  22574.000000               NaN        18.6       18.6   \n",
       "799     NaN        NaN           NaN               NaN         NaN        NaN   \n",
       "850   0.645        1.0  16315.000000               NaN         NaN        NaN   \n",
       "935   0.599        0.0  20760.000000               NaN         9.4        9.4   \n",
       "1005  0.912        1.0   6982.146430           46.7338         NaN        NaN   \n",
       "1543  0.727        1.0  11353.886488               NaN         NaN        NaN   \n",
       "544   0.956        1.0  43189.000000               NaN        18.4       18.4   \n",
       "739   0.748        1.0  35892.712773               NaN        18.1       18.1   \n",
       "\n",
       "      Ineq_Diff  Ineq_Frac  \n",
       "1218  24.883406   8.972356  \n",
       "626   25.735734  12.383217  \n",
       "573   13.778164   6.157404  \n",
       "799         NaN        NaN  \n",
       "850   39.693419  17.541279  \n",
       "935   30.650278  14.933027  \n",
       "1005  43.051582  24.413432  \n",
       "1543        NaN        NaN  \n",
       "544   20.910358  11.179453  \n",
       "739   27.128777  13.112454  "
      ]
     },
     "execution_count": 21,
     "metadata": {},
     "output_type": "execute_result"
    }
   ],
   "source": [
    "df.sample(10)"
   ]
  },
  {
   "cell_type": "markdown",
   "metadata": {
    "slideshow": {
     "slide_type": "slide"
    }
   },
   "source": [
    "# <u> Methods Considered <u>\n",
    "## 1. Data\n",
    "* Feature Engineering\n",
    "* Dummy Variables\n",
    "* Interaction Variables\n",
    "* Scaling and Normalization\n",
    "    \n",
    "## 2. Models\n",
    "* Models - Interpretable vs. Accurate\n",
    "* Assessment - Mean Squared Error (MSE)\n",
    "* Cross Validation - K-Fold or Bootstrapping   \n",
    "    \n",
    "## 3. Visualizations\n",
    "* Correlation Matrix\n",
    "* Feature Importance Bar Chart\n",
    "* Cross Validation Learning Curves"
   ]
  },
  {
   "cell_type": "markdown",
   "metadata": {
    "slideshow": {
     "slide_type": "slide"
    }
   },
   "source": [
    "# <u> Methods Used <u>\n",
    "\n",
    "## 1. Data \n",
    "\n",
    "* Cleaning\n",
    "* Feature Engineering - Inequality\n",
    "* Feature Elimination - Multicollinearity\n",
    "* Preprocessing\n",
    "    * K-Fold - 10 times\n",
    "    * StandardScaler\n",
    "    \n",
    "### Constructed Datasets\n",
    "1. Full Data (~1700 observations)\n",
    "2. Restricted Data (~1250 observations)\n",
    "3. Imputed Data (~1700 observations)"
   ]
  },
  {
   "cell_type": "markdown",
   "metadata": {
    "slideshow": {
     "slide_type": "subslide"
    }
   },
   "source": [
    "<img src = \"Figures/Feat_Corr_Reduced.png\">"
   ]
  },
  {
   "cell_type": "markdown",
   "metadata": {
    "slideshow": {
     "slide_type": "slide"
    }
   },
   "source": [
    "## 2. Algorithms\n",
    "\n",
    "1. LR\n",
    "2. KNN\n",
    "    * Neighbors\n",
    "3. SVR\n",
    "    * rbf kernel, tolerance, C, and gamma\n",
    "4. Random Forest\n",
    "    * max_depth and n_estimators\n",
    "        \n",
    "## 3. Fixed Effects OLS\n",
    "\n",
    "* Essentially `lm` from R with `Country` as 100+ dummy variables"
   ]
  },
  {
   "cell_type": "markdown",
   "metadata": {
    "slideshow": {
     "slide_type": "slide"
    }
   },
   "source": [
    "# <u> Preliminary Results <u>\n",
    "    \n",
    "## 1. Best Model - KNN Using the Restricted Data\n",
    "* Nearest Neighbors = 3\n",
    "* MSE = 0.17\n",
    "* Most Important Feature: GDP - 0.83\n",
    "\n",
    "## 2. **Fixed Effects OLS**\n",
    "* Full\n",
    "    * Academic Freedom @ -2.77\n",
    "* Restricted\n",
    "    * Accountability @ -0.64\n",
    "    * GDP per Capita @ 0.66\n",
    "    * Inequality @ -0.32\n",
    "    * Academic Freedom @ 1.30\n",
    "* Imputed\n",
    "    * Academic Freedom @ -2.76"
   ]
  },
  {
   "cell_type": "markdown",
   "metadata": {
    "slideshow": {
     "slide_type": "subslide"
    }
   },
   "source": [
    "<img src = \"Figures/FeatImp_Restricted.png\">"
   ]
  },
  {
   "cell_type": "markdown",
   "metadata": {
    "slideshow": {
     "slide_type": "slide"
    }
   },
   "source": [
    "# <u> Preliminary Conclusions <u>\n",
    "\n",
    "    \n",
    "* KNN is the Best Model\n",
    "* Important Feature(s)\n",
    "    * GDP\n",
    "    * Academic Freedom\n",
    "* Imputing isn't helpful\n",
    "\n",
    "# <u> Lessons Learned / Future Work <u>\n",
    "\n",
    "## 1) Data Sparsity\n",
    "Success: Showing whether any work statistic has a meaningful impact on happiness.\n",
    "* Possible Fix: Mean Monthly Earnings Data\n",
    "\n",
    "## 2) Models\n",
    "* Poor performance among other models\n",
    "* Cross Validation  "
   ]
  },
  {
   "cell_type": "markdown",
   "metadata": {
    "slideshow": {
     "slide_type": "slide"
    }
   },
   "source": [
    "   \n",
    "## 3) Interpretations\n",
    "* Partial Dependency Plots\n",
    "* Fixed Effects\n",
    "* Feature Importances for Regression\n",
    "\n",
    "# <u> Thanks for Watching!<u>\n",
    "All feedback is appreciated"
   ]
  }
 ],
 "metadata": {
  "celltoolbar": "Slideshow",
  "kernelspec": {
   "display_name": "Python 3",
   "language": "python",
   "name": "python3"
  },
  "language_info": {
   "codemirror_mode": {
    "name": "ipython",
    "version": 3
   },
   "file_extension": ".py",
   "mimetype": "text/x-python",
   "name": "python",
   "nbconvert_exporter": "python",
   "pygments_lexer": "ipython3",
   "version": "3.8.6"
  }
 },
 "nbformat": 4,
 "nbformat_minor": 4
}
