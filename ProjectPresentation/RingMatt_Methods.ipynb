{
 "cells": [
  {
   "cell_type": "code",
   "execution_count": 1,
   "metadata": {},
   "outputs": [],
   "source": [
    "# Package imports\n",
    "\n",
    "# Basics\n",
    "import numpy as np\n",
    "import pandas as pd\n",
    "\n",
    "# Visualization\n",
    "from plotnine import *\n",
    "import plotnine as p9\n",
    "import matplotlib.pyplot as plt\n",
    "\n",
    "# General ML\n",
    "import sklearn\n",
    "from sklearn.pipeline import Pipeline\n",
    "\n",
    "# Splits and CV\n",
    "from sklearn.model_selection import train_test_split\n",
    "from sklearn.model_selection import KFold\n",
    "from sklearn.model_selection import GridSearchCV \n",
    "\n",
    "# Preprocessing\n",
    "from sklearn.preprocessing import StandardScaler\n",
    "\n",
    "# Machine learning regression algorithms \n",
    "from sklearn.linear_model import LinearRegression as LR\n",
    "from sklearn.neighbors import KNeighborsRegressor as KNN\n",
    "from sklearn.svm import SVR\n",
    "from sklearn.ensemble import RandomForestRegressor as RF\n",
    "\n",
    "# Model Interpretation\n",
    "from sklearn.inspection import partial_dependence\n",
    "from sklearn.inspection import plot_partial_dependence\n",
    "from sklearn.inspection import permutation_importance\n",
    "from pdpbox import pdp"
   ]
  },
  {
   "cell_type": "code",
   "execution_count": 2,
   "metadata": {},
   "outputs": [
    {
     "data": {
      "text/html": [
       "<div>\n",
       "<style scoped>\n",
       "    .dataframe tbody tr th:only-of-type {\n",
       "        vertical-align: middle;\n",
       "    }\n",
       "\n",
       "    .dataframe tbody tr th {\n",
       "        vertical-align: top;\n",
       "    }\n",
       "\n",
       "    .dataframe thead th {\n",
       "        text-align: right;\n",
       "    }\n",
       "</style>\n",
       "<table border=\"1\" class=\"dataframe\">\n",
       "  <thead>\n",
       "    <tr style=\"text-align: right;\">\n",
       "      <th></th>\n",
       "      <th>Country</th>\n",
       "      <th>Life_Satisfaction</th>\n",
       "      <th>Diag_Account</th>\n",
       "      <th>EDI</th>\n",
       "      <th>Suffrage_%</th>\n",
       "      <th>GDPpc</th>\n",
       "      <th>Ineq_Frac</th>\n",
       "      <th>AFI</th>\n",
       "    </tr>\n",
       "  </thead>\n",
       "  <tbody>\n",
       "    <tr>\n",
       "      <th>452</th>\n",
       "      <td>Egypt</td>\n",
       "      <td>3.558520</td>\n",
       "      <td>0.368</td>\n",
       "      <td>0.254</td>\n",
       "      <td>100.0</td>\n",
       "      <td>10775.000000</td>\n",
       "      <td>20.313746</td>\n",
       "      <td>0.090</td>\n",
       "    </tr>\n",
       "    <tr>\n",
       "      <th>1227</th>\n",
       "      <td>Romania</td>\n",
       "      <td>5.367565</td>\n",
       "      <td>0.919</td>\n",
       "      <td>0.710</td>\n",
       "      <td>100.0</td>\n",
       "      <td>15866.126777</td>\n",
       "      <td>9.776664</td>\n",
       "      <td>0.830</td>\n",
       "    </tr>\n",
       "    <tr>\n",
       "      <th>85</th>\n",
       "      <td>Azerbaijan</td>\n",
       "      <td>4.573725</td>\n",
       "      <td>0.275</td>\n",
       "      <td>0.213</td>\n",
       "      <td>100.0</td>\n",
       "      <td>15384.293039</td>\n",
       "      <td>11.199728</td>\n",
       "      <td>0.095</td>\n",
       "    </tr>\n",
       "    <tr>\n",
       "      <th>630</th>\n",
       "      <td>Hungary</td>\n",
       "      <td>4.953917</td>\n",
       "      <td>0.899</td>\n",
       "      <td>0.863</td>\n",
       "      <td>100.0</td>\n",
       "      <td>19763.790666</td>\n",
       "      <td>7.028550</td>\n",
       "      <td>0.918</td>\n",
       "    </tr>\n",
       "    <tr>\n",
       "      <th>666</th>\n",
       "      <td>Indonesia</td>\n",
       "      <td>5.292238</td>\n",
       "      <td>0.883</td>\n",
       "      <td>0.626</td>\n",
       "      <td>100.0</td>\n",
       "      <td>9703.000000</td>\n",
       "      <td>28.505243</td>\n",
       "      <td>0.785</td>\n",
       "    </tr>\n",
       "  </tbody>\n",
       "</table>\n",
       "</div>"
      ],
      "text/plain": [
       "         Country  Life_Satisfaction  Diag_Account    EDI  Suffrage_%  \\\n",
       "452        Egypt           3.558520         0.368  0.254       100.0   \n",
       "1227     Romania           5.367565         0.919  0.710       100.0   \n",
       "85    Azerbaijan           4.573725         0.275  0.213       100.0   \n",
       "630      Hungary           4.953917         0.899  0.863       100.0   \n",
       "666    Indonesia           5.292238         0.883  0.626       100.0   \n",
       "\n",
       "             GDPpc  Ineq_Frac    AFI  \n",
       "452   10775.000000  20.313746  0.090  \n",
       "1227  15866.126777   9.776664  0.830  \n",
       "85    15384.293039  11.199728  0.095  \n",
       "630   19763.790666   7.028550  0.918  \n",
       "666    9703.000000  28.505243  0.785  "
      ]
     },
     "execution_count": 2,
     "metadata": {},
     "output_type": "execute_result"
    }
   ],
   "source": [
    "# Data import\n",
    "df = pd.read_csv(\"Data/GeneratedData/Cleaned_Data_Restricted.csv\", index_col = \"Unnamed: 0\")\n",
    "df.sample(5)"
   ]
  },
  {
   "cell_type": "code",
   "execution_count": 3,
   "metadata": {},
   "outputs": [
    {
     "data": {
      "text/plain": [
       "1240"
      ]
     },
     "execution_count": 3,
     "metadata": {},
     "output_type": "execute_result"
    }
   ],
   "source": [
    "len(df)"
   ]
  },
  {
   "cell_type": "code",
   "execution_count": 4,
   "metadata": {},
   "outputs": [
    {
     "data": {
      "text/html": [
       "<div>\n",
       "<style scoped>\n",
       "    .dataframe tbody tr th:only-of-type {\n",
       "        vertical-align: middle;\n",
       "    }\n",
       "\n",
       "    .dataframe tbody tr th {\n",
       "        vertical-align: top;\n",
       "    }\n",
       "\n",
       "    .dataframe thead th {\n",
       "        text-align: right;\n",
       "    }\n",
       "</style>\n",
       "<table border=\"1\" class=\"dataframe\">\n",
       "  <thead>\n",
       "    <tr style=\"text-align: right;\">\n",
       "      <th></th>\n",
       "      <th>Country</th>\n",
       "      <th>Life_Satisfaction</th>\n",
       "      <th>EDI</th>\n",
       "      <th>Suffrage_%</th>\n",
       "      <th>Diag_Account</th>\n",
       "      <th>AFI</th>\n",
       "      <th>GDPpc</th>\n",
       "      <th>Avg_Hours_Worked</th>\n",
       "      <th>U_Coverage</th>\n",
       "      <th>Ineq_Frac</th>\n",
       "    </tr>\n",
       "  </thead>\n",
       "  <tbody>\n",
       "    <tr>\n",
       "      <th>69</th>\n",
       "      <td>Australia</td>\n",
       "      <td>7.257038</td>\n",
       "      <td>0.863</td>\n",
       "      <td>100.0</td>\n",
       "      <td>0.940</td>\n",
       "      <td>0.900158</td>\n",
       "      <td>49265.613502</td>\n",
       "      <td>38.321407</td>\n",
       "      <td>25.092912</td>\n",
       "      <td>13.005650</td>\n",
       "    </tr>\n",
       "    <tr>\n",
       "      <th>854</th>\n",
       "      <td>Libya</td>\n",
       "      <td>5.754394</td>\n",
       "      <td>0.288</td>\n",
       "      <td>100.0</td>\n",
       "      <td>0.821</td>\n",
       "      <td>0.375000</td>\n",
       "      <td>29766.000000</td>\n",
       "      <td>40.292489</td>\n",
       "      <td>20.809194</td>\n",
       "      <td>13.546603</td>\n",
       "    </tr>\n",
       "    <tr>\n",
       "      <th>431</th>\n",
       "      <td>Dominican Republic</td>\n",
       "      <td>5.433216</td>\n",
       "      <td>0.536</td>\n",
       "      <td>100.0</td>\n",
       "      <td>0.889</td>\n",
       "      <td>0.837000</td>\n",
       "      <td>15912.399502</td>\n",
       "      <td>42.510500</td>\n",
       "      <td>18.362035</td>\n",
       "      <td>15.937533</td>\n",
       "    </tr>\n",
       "    <tr>\n",
       "      <th>442</th>\n",
       "      <td>Ecuador</td>\n",
       "      <td>6.115438</td>\n",
       "      <td>0.582</td>\n",
       "      <td>100.0</td>\n",
       "      <td>0.697</td>\n",
       "      <td>0.678000</td>\n",
       "      <td>10527.000000</td>\n",
       "      <td>37.262400</td>\n",
       "      <td>16.945709</td>\n",
       "      <td>24.570611</td>\n",
       "    </tr>\n",
       "    <tr>\n",
       "      <th>517</th>\n",
       "      <td>Gabon</td>\n",
       "      <td>3.918073</td>\n",
       "      <td>0.386</td>\n",
       "      <td>100.0</td>\n",
       "      <td>0.898</td>\n",
       "      <td>0.587559</td>\n",
       "      <td>18053.000000</td>\n",
       "      <td>41.566293</td>\n",
       "      <td>17.276131</td>\n",
       "      <td>16.806947</td>\n",
       "    </tr>\n",
       "  </tbody>\n",
       "</table>\n",
       "</div>"
      ],
      "text/plain": [
       "                Country  Life_Satisfaction    EDI  Suffrage_%  Diag_Account  \\\n",
       "69            Australia           7.257038  0.863       100.0         0.940   \n",
       "854               Libya           5.754394  0.288       100.0         0.821   \n",
       "431  Dominican Republic           5.433216  0.536       100.0         0.889   \n",
       "442             Ecuador           6.115438  0.582       100.0         0.697   \n",
       "517               Gabon           3.918073  0.386       100.0         0.898   \n",
       "\n",
       "          AFI         GDPpc  Avg_Hours_Worked  U_Coverage  Ineq_Frac  \n",
       "69   0.900158  49265.613502         38.321407   25.092912  13.005650  \n",
       "854  0.375000  29766.000000         40.292489   20.809194  13.546603  \n",
       "431  0.837000  15912.399502         42.510500   18.362035  15.937533  \n",
       "442  0.678000  10527.000000         37.262400   16.945709  24.570611  \n",
       "517  0.587559  18053.000000         41.566293   17.276131  16.806947  "
      ]
     },
     "execution_count": 4,
     "metadata": {},
     "output_type": "execute_result"
    }
   ],
   "source": [
    "# Imputed ata import\n",
    "df_I = pd.read_csv(\"Data/GeneratedData/Cleaned_Data_Imputed.csv\", index_col = \"Unnamed: 0\")\n",
    "df_I.sample(5)"
   ]
  },
  {
   "cell_type": "code",
   "execution_count": 5,
   "metadata": {},
   "outputs": [
    {
     "data": {
      "text/plain": [
       "1696"
      ]
     },
     "execution_count": 5,
     "metadata": {},
     "output_type": "execute_result"
    }
   ],
   "source": [
    "len(df_I)"
   ]
  },
  {
   "cell_type": "markdown",
   "metadata": {},
   "source": [
    "# Methods\n",
    "In this notebook, I will set up a machine learning pipeline, run various models, assess their results, and interpret these results."
   ]
  },
  {
   "cell_type": "markdown",
   "metadata": {},
   "source": [
    "## Logging Variables\n",
    "Before we get started, we're going to log both `GDPpc_2011_prices` and `Inequality_Frac`."
   ]
  },
  {
   "cell_type": "code",
   "execution_count": 6,
   "metadata": {},
   "outputs": [],
   "source": [
    "# Logs GDP per capita\n",
    "df['GDPpc'] =  np.where(df['GDPpc']==0,0,np.log(df['GDPpc']))\n",
    "df_I['GDPpc'] =  np.where(df_I['GDPpc']==0,0,np.log(df_I['GDPpc']))"
   ]
  },
  {
   "cell_type": "code",
   "execution_count": 7,
   "metadata": {},
   "outputs": [],
   "source": [
    "# Logs GDP per capita\n",
    "df['Ineq_Frac'] =  np.where(df['Ineq_Frac']==0,0,np.log(df['Ineq_Frac']))\n",
    "df_I['Ineq_Frac'] =  np.where(df_I['Ineq_Frac']==0,0,np.log(df_I['Ineq_Frac']))"
   ]
  },
  {
   "cell_type": "markdown",
   "metadata": {},
   "source": [
    "# Pipeline"
   ]
  },
  {
   "cell_type": "code",
   "execution_count": 8,
   "metadata": {},
   "outputs": [],
   "source": [
    "# K-Folds\n",
    "fold_generator = KFold(n_splits=10, shuffle=True,random_state=1234)"
   ]
  },
  {
   "cell_type": "code",
   "execution_count": 9,
   "metadata": {},
   "outputs": [],
   "source": [
    "# Initializes pipeline\n",
    "pipe = Pipeline(steps=[('pre_process', StandardScaler()),('model',None)])"
   ]
  },
  {
   "cell_type": "code",
   "execution_count": 10,
   "metadata": {},
   "outputs": [],
   "source": [
    "# Hyperparameter Tuning\n",
    "search_space = [\n",
    "    \n",
    "    # Linear Regression\n",
    "    {'model': [LR()]},\n",
    "    \n",
    "    # KNN with K tuning param\n",
    "    {'model' : [KNN()],\n",
    "     'model__n_neighbors':[1,2,3,4,5,10]},\n",
    "    \n",
    "    # Support Vector Machine for regression\n",
    "    # Selected the rbf kernel based on the grid search of the imputed model\n",
    "    {'model': [SVR()],\n",
    "     'model__kernel':[\"rbf\"],\n",
    "     'model__tol':[1e-4,1e-3,1e-2],\n",
    "     'model__C':[10, 20, 30, 40],\n",
    "     'model__gamma':[1e-3,1e-2,1e-1,1]},\n",
    "    \n",
    "    # Random forest with the N Estimators tuning param\n",
    "    {'model' : [RF()],\n",
    "    'model__max_depth':[2,3,4],\n",
    "    'model__n_estimators':[500,1000,1500]}\n",
    "    \n",
    "]"
   ]
  },
  {
   "cell_type": "markdown",
   "metadata": {},
   "source": [
    "# Run Models"
   ]
  },
  {
   "cell_type": "markdown",
   "metadata": {},
   "source": [
    "## Restricted Data"
   ]
  },
  {
   "cell_type": "code",
   "execution_count": 11,
   "metadata": {},
   "outputs": [],
   "source": [
    "search = GridSearchCV(pipe, search_space, \n",
    "                      cv = fold_generator,\n",
    "                      scoring='neg_mean_squared_error',\n",
    "                      n_jobs=4)"
   ]
  },
  {
   "cell_type": "code",
   "execution_count": 12,
   "metadata": {},
   "outputs": [],
   "source": [
    "y = df[['Life_Satisfaction']]\n",
    "X = df.drop(columns=['Life_Satisfaction', \"Country\"])\n",
    "train_X, test_X, train_y, test_y = train_test_split(X,y,test_size = .25,random_state=123)"
   ]
  },
  {
   "cell_type": "code",
   "execution_count": 13,
   "metadata": {},
   "outputs": [
    {
     "data": {
      "text/plain": [
       "GridSearchCV(cv=KFold(n_splits=10, random_state=1234, shuffle=True),\n",
       "             estimator=Pipeline(steps=[('pre_process', StandardScaler()),\n",
       "                                       ('model', None)]),\n",
       "             n_jobs=4,\n",
       "             param_grid=[{'model': [LinearRegression()]},\n",
       "                         {'model': [KNeighborsRegressor(n_neighbors=3)],\n",
       "                          'model__n_neighbors': [1, 2, 3, 4, 5, 10]},\n",
       "                         {'model': [SVR()], 'model__C': [10, 20, 30, 40],\n",
       "                          'model__gamma': [0.001, 0.01, 0.1, 1],\n",
       "                          'model__kernel': ['rbf'],\n",
       "                          'model__tol': [0.0001, 0.001, 0.01]},\n",
       "                         {'model': [RandomForestRegressor()],\n",
       "                          'model__max_depth': [2, 3, 4],\n",
       "                          'model__n_estimators': [500, 1000, 1500]}],\n",
       "             scoring='neg_mean_squared_error')"
      ]
     },
     "execution_count": 13,
     "metadata": {},
     "output_type": "execute_result"
    }
   ],
   "source": [
    "search.fit(train_X,train_y)"
   ]
  },
  {
   "cell_type": "markdown",
   "metadata": {},
   "source": [
    "## Imputed Data"
   ]
  },
  {
   "cell_type": "code",
   "execution_count": 14,
   "metadata": {},
   "outputs": [],
   "source": [
    "search_I = GridSearchCV(pipe, search_space, \n",
    "                      cv = fold_generator,\n",
    "                      scoring='neg_mean_squared_error',\n",
    "                      n_jobs=4)"
   ]
  },
  {
   "cell_type": "code",
   "execution_count": 15,
   "metadata": {},
   "outputs": [],
   "source": [
    "y = df_I[['Life_Satisfaction']]\n",
    "X = df_I.drop(columns=['Life_Satisfaction', \"Country\"])\n",
    "train_X_I, test_X_I, train_y_I, test_y_I = train_test_split(X,y,test_size = .25,random_state=123)"
   ]
  },
  {
   "cell_type": "code",
   "execution_count": 16,
   "metadata": {},
   "outputs": [
    {
     "data": {
      "text/plain": [
       "GridSearchCV(cv=KFold(n_splits=10, random_state=1234, shuffle=True),\n",
       "             estimator=Pipeline(steps=[('pre_process', StandardScaler()),\n",
       "                                       ('model', None)]),\n",
       "             n_jobs=4,\n",
       "             param_grid=[{'model': [LinearRegression()]},\n",
       "                         {'model': [KNeighborsRegressor(n_neighbors=2)],\n",
       "                          'model__n_neighbors': [1, 2, 3, 4, 5, 10]},\n",
       "                         {'model': [SVR()], 'model__C': [10, 20, 30, 40],\n",
       "                          'model__gamma': [0.001, 0.01, 0.1, 1],\n",
       "                          'model__kernel': ['rbf'],\n",
       "                          'model__tol': [0.0001, 0.001, 0.01]},\n",
       "                         {'model': [RandomForestRegressor()],\n",
       "                          'model__max_depth': [2, 3, 4],\n",
       "                          'model__n_estimators': [500, 1000, 1500]}],\n",
       "             scoring='neg_mean_squared_error')"
      ]
     },
     "execution_count": 16,
     "metadata": {},
     "output_type": "execute_result"
    }
   ],
   "source": [
    "search_I.fit(train_X_I,train_y_I)"
   ]
  },
  {
   "cell_type": "markdown",
   "metadata": {},
   "source": [
    "# Results"
   ]
  },
  {
   "cell_type": "markdown",
   "metadata": {},
   "source": [
    "## Restricted Data"
   ]
  },
  {
   "cell_type": "code",
   "execution_count": 17,
   "metadata": {},
   "outputs": [
    {
     "data": {
      "text/plain": [
       "-0.16962715471663706"
      ]
     },
     "execution_count": 17,
     "metadata": {},
     "output_type": "execute_result"
    }
   ],
   "source": [
    "search.best_score_"
   ]
  },
  {
   "cell_type": "code",
   "execution_count": 18,
   "metadata": {},
   "outputs": [
    {
     "data": {
      "text/plain": [
       "{'model': KNeighborsRegressor(n_neighbors=2), 'model__n_neighbors': 3}"
      ]
     },
     "execution_count": 18,
     "metadata": {},
     "output_type": "execute_result"
    }
   ],
   "source": [
    "search.best_params_"
   ]
  },
  {
   "cell_type": "code",
   "execution_count": 19,
   "metadata": {},
   "outputs": [],
   "source": [
    "knn_mod = search.best_estimator_"
   ]
  },
  {
   "cell_type": "markdown",
   "metadata": {},
   "source": [
    "## Imputed Data"
   ]
  },
  {
   "cell_type": "code",
   "execution_count": 20,
   "metadata": {},
   "outputs": [
    {
     "data": {
      "text/plain": [
       "-0.23163640841471173"
      ]
     },
     "execution_count": 20,
     "metadata": {},
     "output_type": "execute_result"
    }
   ],
   "source": [
    "search_I.best_score_"
   ]
  },
  {
   "cell_type": "code",
   "execution_count": 21,
   "metadata": {},
   "outputs": [
    {
     "data": {
      "text/plain": [
       "{'model': KNeighborsRegressor(n_neighbors=2), 'model__n_neighbors': 2}"
      ]
     },
     "execution_count": 21,
     "metadata": {},
     "output_type": "execute_result"
    }
   ],
   "source": [
    "search_I.best_params_"
   ]
  },
  {
   "cell_type": "code",
   "execution_count": 22,
   "metadata": {},
   "outputs": [],
   "source": [
    "knn_mod_I = search_I.best_estimator_"
   ]
  },
  {
   "cell_type": "markdown",
   "metadata": {},
   "source": [
    "# Interpretation"
   ]
  },
  {
   "cell_type": "markdown",
   "metadata": {},
   "source": [
    "## Restricted Data"
   ]
  },
  {
   "cell_type": "markdown",
   "metadata": {},
   "source": [
    "### Variable Importance"
   ]
  },
  {
   "cell_type": "code",
   "execution_count": 34,
   "metadata": {},
   "outputs": [],
   "source": [
    "vi = permutation_importance(knn_mod,train_X,train_y,n_repeats=25)"
   ]
  },
  {
   "cell_type": "markdown",
   "metadata": {},
   "source": [
    "Organize the output as a data frame. "
   ]
  },
  {
   "cell_type": "code",
   "execution_count": 35,
   "metadata": {},
   "outputs": [
    {
     "data": {
      "text/html": [
       "<div>\n",
       "<style scoped>\n",
       "    .dataframe tbody tr th:only-of-type {\n",
       "        vertical-align: middle;\n",
       "    }\n",
       "\n",
       "    .dataframe tbody tr th {\n",
       "        vertical-align: top;\n",
       "    }\n",
       "\n",
       "    .dataframe thead th {\n",
       "        text-align: right;\n",
       "    }\n",
       "</style>\n",
       "<table border=\"1\" class=\"dataframe\">\n",
       "  <thead>\n",
       "    <tr style=\"text-align: right;\">\n",
       "      <th></th>\n",
       "      <th>variable</th>\n",
       "      <th>vi</th>\n",
       "      <th>std</th>\n",
       "      <th>low</th>\n",
       "      <th>high</th>\n",
       "    </tr>\n",
       "  </thead>\n",
       "  <tbody>\n",
       "    <tr>\n",
       "      <th>0</th>\n",
       "      <td>GDP per Capita (2011 Prices)</td>\n",
       "      <td>0.854670</td>\n",
       "      <td>0.033111</td>\n",
       "      <td>0.788448</td>\n",
       "      <td>0.920893</td>\n",
       "    </tr>\n",
       "    <tr>\n",
       "      <th>1</th>\n",
       "      <td>Electoral Democracy Index</td>\n",
       "      <td>0.451889</td>\n",
       "      <td>0.026111</td>\n",
       "      <td>0.399666</td>\n",
       "      <td>0.504111</td>\n",
       "    </tr>\n",
       "    <tr>\n",
       "      <th>2</th>\n",
       "      <td>Academic Freedom Index</td>\n",
       "      <td>0.432051</td>\n",
       "      <td>0.025029</td>\n",
       "      <td>0.381993</td>\n",
       "      <td>0.482110</td>\n",
       "    </tr>\n",
       "    <tr>\n",
       "      <th>3</th>\n",
       "      <td>Fractional Inequality</td>\n",
       "      <td>0.402019</td>\n",
       "      <td>0.025392</td>\n",
       "      <td>0.351235</td>\n",
       "      <td>0.452803</td>\n",
       "    </tr>\n",
       "    <tr>\n",
       "      <th>4</th>\n",
       "      <td>Diagonal Accounability</td>\n",
       "      <td>0.247217</td>\n",
       "      <td>0.012788</td>\n",
       "      <td>0.221640</td>\n",
       "      <td>0.272793</td>\n",
       "    </tr>\n",
       "    <tr>\n",
       "      <th>5</th>\n",
       "      <td>Percent of Adult Population with Suffrage</td>\n",
       "      <td>0.055289</td>\n",
       "      <td>0.011108</td>\n",
       "      <td>0.033074</td>\n",
       "      <td>0.077505</td>\n",
       "    </tr>\n",
       "  </tbody>\n",
       "</table>\n",
       "</div>"
      ],
      "text/plain": [
       "                                    variable        vi       std       low  \\\n",
       "0               GDP per Capita (2011 Prices)  0.854670  0.033111  0.788448   \n",
       "1                  Electoral Democracy Index  0.451889  0.026111  0.399666   \n",
       "2                     Academic Freedom Index  0.432051  0.025029  0.381993   \n",
       "3                      Fractional Inequality  0.402019  0.025392  0.351235   \n",
       "4                     Diagonal Accounability  0.247217  0.012788  0.221640   \n",
       "5  Percent of Adult Population with Suffrage  0.055289  0.011108  0.033074   \n",
       "\n",
       "       high  \n",
       "0  0.920893  \n",
       "1  0.504111  \n",
       "2  0.482110  \n",
       "3  0.452803  \n",
       "4  0.272793  \n",
       "5  0.077505  "
      ]
     },
     "execution_count": 35,
     "metadata": {},
     "output_type": "execute_result"
    }
   ],
   "source": [
    "# Rename columns for visualization\n",
    "train_X = train_X.rename({\"Diag_Account\": \"Diagonal Accounability\",\n",
    "                     \"EDI\": \"Electoral Democracy Index\", \n",
    "                     \"Suffrage\":\"Percent of Adult Population with Suffrage\", \n",
    "                     \"GDPpc\":\"GDP per Capita (2011 Prices)\", \n",
    "                     \"Avg_Hours_Worked\":\"Average Hours Worked\", \n",
    "                     \"U_Coverage\":\"Percent of Workforce Unionized\", \n",
    "                     \"Ineq_Frac\":\"Fractional Inequality\", \n",
    "                     \"Ineq_Diff\":\"Differential Inequality\", \n",
    "                     \"AFI\":\"Academic Freedom Index\",\n",
    "                     \"Democracy\":\"Democracy Binary\"}, axis = 1)\n",
    "\n",
    "# Organize as a data frame \n",
    "vi_dat = pd.DataFrame(dict(variable=train_X.columns,\n",
    "                           vi = vi['importances_mean'],\n",
    "                           std = vi['importances_std']))\n",
    "\n",
    "# Generate intervals\n",
    "vi_dat['low'] = vi_dat['vi'] - 2*vi_dat['std']\n",
    "vi_dat['high'] = vi_dat['vi'] + 2*vi_dat['std']\n",
    "\n",
    "# But in order from most to least important\n",
    "vi_dat = vi_dat.sort_values(by=\"vi\",ascending=False).reset_index(drop=True)\n",
    "vi_dat"
   ]
  },
  {
   "cell_type": "markdown",
   "metadata": {},
   "source": [
    "### Visualizations"
   ]
  },
  {
   "cell_type": "code",
   "execution_count": 36,
   "metadata": {},
   "outputs": [
    {
     "data": {
      "image/png": "[encoded data removed]",
      "text/plain": [
       "<Figure size 640x480 with 1 Axes>"
      ]
     },
     "metadata": {},
     "output_type": "display_data"
    },
    {
     "data": {
      "text/plain": [
       "<ggplot: (143495630855)>"
      ]
     },
     "execution_count": 36,
     "metadata": {},
     "output_type": "execute_result"
    }
   ],
   "source": [
    "# Plot\n",
    "p = ggplot(vi_dat, aes(x=\"variable\",y=\"vi\")) + geom_col(alpha=.5) + geom_point() + geom_errorbar(aes(ymin=\"low\",ymax=\"high\"),width=.2) + theme_bw() + scale_x_discrete(limits=vi_dat.variable.tolist()) + coord_flip() + labs(y=\"Reduction in MSE\",x=\"\", title = \"Feature Importances for KNN w/ Restricted Data\")\n",
    "\n",
    "p"
   ]
  },
  {
   "cell_type": "code",
   "execution_count": 37,
   "metadata": {},
   "outputs": [],
   "source": [
    "p.save(filename = \"Figures/FeatImp_Restricted.png\", dpi = 300)"
   ]
  },
  {
   "cell_type": "markdown",
   "metadata": {},
   "source": [
    "## Imputed Data"
   ]
  },
  {
   "cell_type": "markdown",
   "metadata": {},
   "source": [
    "### Variable Importance"
   ]
  },
  {
   "cell_type": "code",
   "execution_count": 42,
   "metadata": {},
   "outputs": [],
   "source": [
    "vi = permutation_importance(knn_mod_I,train_X_I,train_y_I,n_repeats=25)"
   ]
  },
  {
   "cell_type": "markdown",
   "metadata": {},
   "source": [
    "Organize the output as a data frame. "
   ]
  },
  {
   "cell_type": "code",
   "execution_count": 43,
   "metadata": {},
   "outputs": [
    {
     "data": {
      "text/html": [
       "<div>\n",
       "<style scoped>\n",
       "    .dataframe tbody tr th:only-of-type {\n",
       "        vertical-align: middle;\n",
       "    }\n",
       "\n",
       "    .dataframe tbody tr th {\n",
       "        vertical-align: top;\n",
       "    }\n",
       "\n",
       "    .dataframe thead th {\n",
       "        text-align: right;\n",
       "    }\n",
       "</style>\n",
       "<table border=\"1\" class=\"dataframe\">\n",
       "  <thead>\n",
       "    <tr style=\"text-align: right;\">\n",
       "      <th></th>\n",
       "      <th>variable</th>\n",
       "      <th>vi</th>\n",
       "      <th>std</th>\n",
       "      <th>low</th>\n",
       "      <th>high</th>\n",
       "    </tr>\n",
       "  </thead>\n",
       "  <tbody>\n",
       "    <tr>\n",
       "      <th>0</th>\n",
       "      <td>GDP per Capita (2011 Prices)</td>\n",
       "      <td>0.514757</td>\n",
       "      <td>0.024602</td>\n",
       "      <td>0.465553</td>\n",
       "      <td>0.563960</td>\n",
       "    </tr>\n",
       "    <tr>\n",
       "      <th>1</th>\n",
       "      <td>Electoral Democracy Index</td>\n",
       "      <td>0.406897</td>\n",
       "      <td>0.016207</td>\n",
       "      <td>0.374484</td>\n",
       "      <td>0.439311</td>\n",
       "    </tr>\n",
       "    <tr>\n",
       "      <th>2</th>\n",
       "      <td>Academic Freedom Index</td>\n",
       "      <td>0.310334</td>\n",
       "      <td>0.017898</td>\n",
       "      <td>0.274538</td>\n",
       "      <td>0.346130</td>\n",
       "    </tr>\n",
       "    <tr>\n",
       "      <th>3</th>\n",
       "      <td>Average Hours Worked</td>\n",
       "      <td>0.284601</td>\n",
       "      <td>0.015982</td>\n",
       "      <td>0.252636</td>\n",
       "      <td>0.316566</td>\n",
       "    </tr>\n",
       "    <tr>\n",
       "      <th>4</th>\n",
       "      <td>Fractional Inequality</td>\n",
       "      <td>0.270564</td>\n",
       "      <td>0.011917</td>\n",
       "      <td>0.246730</td>\n",
       "      <td>0.294398</td>\n",
       "    </tr>\n",
       "    <tr>\n",
       "      <th>5</th>\n",
       "      <td>Diagonal Accounability</td>\n",
       "      <td>0.212819</td>\n",
       "      <td>0.009593</td>\n",
       "      <td>0.193633</td>\n",
       "      <td>0.232005</td>\n",
       "    </tr>\n",
       "    <tr>\n",
       "      <th>6</th>\n",
       "      <td>Percent of Workforce Unionized</td>\n",
       "      <td>0.186310</td>\n",
       "      <td>0.009033</td>\n",
       "      <td>0.168244</td>\n",
       "      <td>0.204377</td>\n",
       "    </tr>\n",
       "    <tr>\n",
       "      <th>7</th>\n",
       "      <td>Percent of Adult Population with Suffrage</td>\n",
       "      <td>0.021999</td>\n",
       "      <td>0.005853</td>\n",
       "      <td>0.010293</td>\n",
       "      <td>0.033706</td>\n",
       "    </tr>\n",
       "  </tbody>\n",
       "</table>\n",
       "</div>"
      ],
      "text/plain": [
       "                                    variable        vi       std       low  \\\n",
       "0               GDP per Capita (2011 Prices)  0.514757  0.024602  0.465553   \n",
       "1                  Electoral Democracy Index  0.406897  0.016207  0.374484   \n",
       "2                     Academic Freedom Index  0.310334  0.017898  0.274538   \n",
       "3                       Average Hours Worked  0.284601  0.015982  0.252636   \n",
       "4                      Fractional Inequality  0.270564  0.011917  0.246730   \n",
       "5                     Diagonal Accounability  0.212819  0.009593  0.193633   \n",
       "6             Percent of Workforce Unionized  0.186310  0.009033  0.168244   \n",
       "7  Percent of Adult Population with Suffrage  0.021999  0.005853  0.010293   \n",
       "\n",
       "       high  \n",
       "0  0.563960  \n",
       "1  0.439311  \n",
       "2  0.346130  \n",
       "3  0.316566  \n",
       "4  0.294398  \n",
       "5  0.232005  \n",
       "6  0.204377  \n",
       "7  0.033706  "
      ]
     },
     "execution_count": 43,
     "metadata": {},
     "output_type": "execute_result"
    }
   ],
   "source": [
    "# Rename columns for visualization\n",
    "train_X_I = train_X_I.rename({\"Diag_Account\": \"Diagonal Accounability\",\n",
    "                     \"EDI\": \"Electoral Democracy Index\", \n",
    "                     \"Suffrage\":\"Percent of Adult Population with Suffrage\", \n",
    "                     \"GDPpc\":\"GDP per Capita (2011 Prices)\", \n",
    "                     \"Avg_Hours_Worked\":\"Average Hours Worked\", \n",
    "                     \"U_Coverage\":\"Percent of Workforce Unionized\", \n",
    "                     \"Ineq_Frac\":\"Fractional Inequality\", \n",
    "                     \"Ineq_Diff\":\"Differential Inequality\", \n",
    "                     \"AFI\":\"Academic Freedom Index\",\n",
    "                     \"Democracy\":\"Democracy Binary\"}, axis = 1)\n",
    "\n",
    "# Organize as a data frame \n",
    "vi_dat = pd.DataFrame(dict(variable=train_X_I.columns,\n",
    "                           vi = vi['importances_mean'],\n",
    "                           std = vi['importances_std']))\n",
    "\n",
    "# Generate intervals\n",
    "vi_dat['low'] = vi_dat['vi'] - 2*vi_dat['std']\n",
    "vi_dat['high'] = vi_dat['vi'] + 2*vi_dat['std']\n",
    "\n",
    "# But in order from most to least important\n",
    "vi_dat = vi_dat.sort_values(by=\"vi\",ascending=False).reset_index(drop=True)\n",
    "vi_dat"
   ]
  },
  {
   "cell_type": "markdown",
   "metadata": {},
   "source": [
    "### Visualizations"
   ]
  },
  {
   "cell_type": "code",
   "execution_count": 44,
   "metadata": {},
   "outputs": [
    {
     "data": {
      "image/png": "[encoded data removed]",
      "text/plain": [
       "<Figure size 640x480 with 1 Axes>"
      ]
     },
     "metadata": {},
     "output_type": "display_data"
    },
    {
     "data": {
      "text/plain": [
       "<ggplot: (143492316079)>"
      ]
     },
     "execution_count": 44,
     "metadata": {},
     "output_type": "execute_result"
    }
   ],
   "source": [
    "# Plot\n",
    "p = ggplot(vi_dat, aes(x=\"variable\",y=\"vi\")) + geom_col(alpha=.5) + geom_point() + geom_errorbar(aes(ymin=\"low\",ymax=\"high\"),width=.2) + theme_bw() + scale_x_discrete(limits=vi_dat.variable.tolist()) + coord_flip() + labs(y=\"Reduction in MSE\",x=\"\", title = \"Feature Importances for KNN w/ Imputed Data\")\n",
    "\n",
    "p"
   ]
  },
  {
   "cell_type": "code",
   "execution_count": 45,
   "metadata": {},
   "outputs": [],
   "source": [
    "p.save(filename = \"Figures/FeatImp_Imputed.png\", dpi = 300)"
   ]
  },
  {
   "cell_type": "code",
   "execution_count": null,
   "metadata": {},
   "outputs": [],
   "source": []
  }
 ],
 "metadata": {
  "kernelspec": {
   "display_name": "Python 3",
   "language": "python",
   "name": "python3"
  },
  "language_info": {
   "codemirror_mode": {
    "name": "ipython",
    "version": 3
   },
   "file_extension": ".py",
   "mimetype": "text/x-python",
   "name": "python",
   "nbconvert_exporter": "python",
   "pygments_lexer": "ipython3",
   "version": "3.8.6"
  }
 },
 "nbformat": 4,
 "nbformat_minor": 4
}
