{
 "cells": [
  {
   "cell_type": "code",
   "execution_count": 1,
   "metadata": {},
   "outputs": [],
   "source": [
    "# Package imports\n",
    "\n",
    "# Basics\n",
    "import numpy as np\n",
    "import pandas as pd\n",
    "\n",
    "# Visualization\n",
    "from plotnine import *\n",
    "import matplotlib.pyplot as plt\n",
    "\n",
    "# Fixed Effects\n",
    "import linearmodels as lm\n",
    "import statsmodels.formula.api as smf\n",
    "#from statsmodels.regression.linear_model import OLS\n",
    "\n",
    "# General ML\n",
    "import sklearn\n",
    "from sklearn.pipeline import Pipeline\n",
    "\n",
    "# Splits and CV\n",
    "from sklearn.model_selection import train_test_split\n",
    "from sklearn.model_selection import KFold\n",
    "from sklearn.model_selection import GridSearchCV \n",
    "\n",
    "# Preprocessing\n",
    "from sklearn.preprocessing import StandardScaler\n",
    "\n",
    "# Machine learning regression algorithms \n",
    "from sklearn.linear_model import LinearRegression as LR\n",
    "from sklearn.neighbors import KNeighborsRegressor as KNN\n",
    "from sklearn.svm import SVR\n",
    "from sklearn.ensemble import RandomForestRegressor as RF\n",
    "\n",
    "# Model Interpretation\n",
    "from sklearn.inspection import partial_dependence\n",
    "from sklearn.inspection import plot_partial_dependence\n",
    "from sklearn.inspection import permutation_importance\n",
    "from pdpbox import pdp"
   ]
  },
  {
   "cell_type": "code",
   "execution_count": 2,
   "metadata": {},
   "outputs": [
    {
     "data": {
      "text/html": [
       "<div>\n",
       "<style scoped>\n",
       "    .dataframe tbody tr th:only-of-type {\n",
       "        vertical-align: middle;\n",
       "    }\n",
       "\n",
       "    .dataframe tbody tr th {\n",
       "        vertical-align: top;\n",
       "    }\n",
       "\n",
       "    .dataframe thead th {\n",
       "        text-align: right;\n",
       "    }\n",
       "</style>\n",
       "<table border=\"1\" class=\"dataframe\">\n",
       "  <thead>\n",
       "    <tr style=\"text-align: right;\">\n",
       "      <th></th>\n",
       "      <th>Country</th>\n",
       "      <th>Life_Satisfaction</th>\n",
       "      <th>Diag_Account</th>\n",
       "      <th>EDI</th>\n",
       "      <th>Suffrage_%</th>\n",
       "      <th>GDPpc</th>\n",
       "      <th>Ineq_Frac</th>\n",
       "      <th>AFI</th>\n",
       "    </tr>\n",
       "  </thead>\n",
       "  <tbody>\n",
       "    <tr>\n",
       "      <th>1259</th>\n",
       "      <td>Rwanda</td>\n",
       "      <td>3.108374</td>\n",
       "      <td>0.364</td>\n",
       "      <td>0.243</td>\n",
       "      <td>100.0</td>\n",
       "      <td>1819.083115</td>\n",
       "      <td>52.442000</td>\n",
       "      <td>0.186</td>\n",
       "    </tr>\n",
       "    <tr>\n",
       "      <th>122</th>\n",
       "      <td>Belarus</td>\n",
       "      <td>5.225308</td>\n",
       "      <td>0.284</td>\n",
       "      <td>0.218</td>\n",
       "      <td>100.0</td>\n",
       "      <td>17918.000000</td>\n",
       "      <td>6.670614</td>\n",
       "      <td>0.178</td>\n",
       "    </tr>\n",
       "    <tr>\n",
       "      <th>1006</th>\n",
       "      <td>Montenegro</td>\n",
       "      <td>5.074342</td>\n",
       "      <td>0.816</td>\n",
       "      <td>0.485</td>\n",
       "      <td>100.0</td>\n",
       "      <td>16064.000000</td>\n",
       "      <td>7.112440</td>\n",
       "      <td>0.529</td>\n",
       "    </tr>\n",
       "    <tr>\n",
       "      <th>295</th>\n",
       "      <td>Chile</td>\n",
       "      <td>6.844238</td>\n",
       "      <td>0.958</td>\n",
       "      <td>0.902</td>\n",
       "      <td>100.0</td>\n",
       "      <td>21335.000000</td>\n",
       "      <td>12.093797</td>\n",
       "      <td>0.953</td>\n",
       "    </tr>\n",
       "    <tr>\n",
       "      <th>360</th>\n",
       "      <td>Croatia</td>\n",
       "      <td>5.820908</td>\n",
       "      <td>0.903</td>\n",
       "      <td>0.785</td>\n",
       "      <td>100.0</td>\n",
       "      <td>19984.037431</td>\n",
       "      <td>4.300204</td>\n",
       "      <td>0.882</td>\n",
       "    </tr>\n",
       "  </tbody>\n",
       "</table>\n",
       "</div>"
      ],
      "text/plain": [
       "         Country  Life_Satisfaction  Diag_Account    EDI  Suffrage_%  \\\n",
       "1259      Rwanda           3.108374         0.364  0.243       100.0   \n",
       "122      Belarus           5.225308         0.284  0.218       100.0   \n",
       "1006  Montenegro           5.074342         0.816  0.485       100.0   \n",
       "295        Chile           6.844238         0.958  0.902       100.0   \n",
       "360      Croatia           5.820908         0.903  0.785       100.0   \n",
       "\n",
       "             GDPpc  Ineq_Frac    AFI  \n",
       "1259   1819.083115  52.442000  0.186  \n",
       "122   17918.000000   6.670614  0.178  \n",
       "1006  16064.000000   7.112440  0.529  \n",
       "295   21335.000000  12.093797  0.953  \n",
       "360   19984.037431   4.300204  0.882  "
      ]
     },
     "execution_count": 2,
     "metadata": {},
     "output_type": "execute_result"
    }
   ],
   "source": [
    "# Data import\n",
    "df = pd.read_csv(\"Data/GeneratedData/Cleaned_Data_Restricted.csv\", index_col = \"Unnamed: 0\")\n",
    "df.sample(5)"
   ]
  },
  {
   "cell_type": "code",
   "execution_count": 3,
   "metadata": {},
   "outputs": [
    {
     "data": {
      "text/plain": [
       "1240"
      ]
     },
     "execution_count": 3,
     "metadata": {},
     "output_type": "execute_result"
    }
   ],
   "source": [
    "len(df)"
   ]
  },
  {
   "cell_type": "code",
   "execution_count": 4,
   "metadata": {},
   "outputs": [
    {
     "data": {
      "text/html": [
       "<div>\n",
       "<style scoped>\n",
       "    .dataframe tbody tr th:only-of-type {\n",
       "        vertical-align: middle;\n",
       "    }\n",
       "\n",
       "    .dataframe tbody tr th {\n",
       "        vertical-align: top;\n",
       "    }\n",
       "\n",
       "    .dataframe thead th {\n",
       "        text-align: right;\n",
       "    }\n",
       "</style>\n",
       "<table border=\"1\" class=\"dataframe\">\n",
       "  <thead>\n",
       "    <tr style=\"text-align: right;\">\n",
       "      <th></th>\n",
       "      <th>Country</th>\n",
       "      <th>Year</th>\n",
       "      <th>Life_Satisfaction</th>\n",
       "      <th>EDI</th>\n",
       "      <th>Suffrage_%</th>\n",
       "      <th>Diag_Account</th>\n",
       "      <th>AFI</th>\n",
       "      <th>Democracy</th>\n",
       "      <th>GDPpc</th>\n",
       "      <th>Avg_Hours_Worked</th>\n",
       "      <th>U_Coverage</th>\n",
       "      <th>Ineq_Diff</th>\n",
       "      <th>Ineq_Frac</th>\n",
       "    </tr>\n",
       "  </thead>\n",
       "  <tbody>\n",
       "    <tr>\n",
       "      <th>654</th>\n",
       "      <td>India</td>\n",
       "      <td>2014</td>\n",
       "      <td>4.424379</td>\n",
       "      <td>0.688</td>\n",
       "      <td>100.0</td>\n",
       "      <td>0.807</td>\n",
       "      <td>0.675</td>\n",
       "      <td>1.0</td>\n",
       "      <td>5458.000000</td>\n",
       "      <td>NaN</td>\n",
       "      <td>NaN</td>\n",
       "      <td>78.440422</td>\n",
       "      <td>96.519879</td>\n",
       "    </tr>\n",
       "    <tr>\n",
       "      <th>561</th>\n",
       "      <td>Ghana</td>\n",
       "      <td>2017</td>\n",
       "      <td>5.481311</td>\n",
       "      <td>0.754</td>\n",
       "      <td>100.0</td>\n",
       "      <td>0.929</td>\n",
       "      <td>0.817</td>\n",
       "      <td>1.0</td>\n",
       "      <td>4103.556071</td>\n",
       "      <td>NaN</td>\n",
       "      <td>NaN</td>\n",
       "      <td>67.956332</td>\n",
       "      <td>60.850571</td>\n",
       "    </tr>\n",
       "    <tr>\n",
       "      <th>787</th>\n",
       "      <td>Kenya</td>\n",
       "      <td>2018</td>\n",
       "      <td>4.655703</td>\n",
       "      <td>0.435</td>\n",
       "      <td>100.0</td>\n",
       "      <td>0.783</td>\n",
       "      <td>NaN</td>\n",
       "      <td>0.0</td>\n",
       "      <td>3377.470366</td>\n",
       "      <td>NaN</td>\n",
       "      <td>NaN</td>\n",
       "      <td>NaN</td>\n",
       "      <td>NaN</td>\n",
       "    </tr>\n",
       "    <tr>\n",
       "      <th>860</th>\n",
       "      <td>Lithuania</td>\n",
       "      <td>2007</td>\n",
       "      <td>5.808285</td>\n",
       "      <td>0.811</td>\n",
       "      <td>100.0</td>\n",
       "      <td>0.921</td>\n",
       "      <td>0.951</td>\n",
       "      <td>1.0</td>\n",
       "      <td>20138.472410</td>\n",
       "      <td>NaN</td>\n",
       "      <td>9.3</td>\n",
       "      <td>22.274336</td>\n",
       "      <td>8.704684</td>\n",
       "    </tr>\n",
       "    <tr>\n",
       "      <th>1097</th>\n",
       "      <td>Niger</td>\n",
       "      <td>2015</td>\n",
       "      <td>3.671454</td>\n",
       "      <td>0.624</td>\n",
       "      <td>100.0</td>\n",
       "      <td>0.930</td>\n",
       "      <td>NaN</td>\n",
       "      <td>1.0</td>\n",
       "      <td>913.000000</td>\n",
       "      <td>NaN</td>\n",
       "      <td>NaN</td>\n",
       "      <td>93.073129</td>\n",
       "      <td>632.503452</td>\n",
       "    </tr>\n",
       "  </tbody>\n",
       "</table>\n",
       "</div>"
      ],
      "text/plain": [
       "        Country  Year  Life_Satisfaction    EDI  Suffrage_%  Diag_Account  \\\n",
       "654       India  2014           4.424379  0.688       100.0         0.807   \n",
       "561       Ghana  2017           5.481311  0.754       100.0         0.929   \n",
       "787       Kenya  2018           4.655703  0.435       100.0         0.783   \n",
       "860   Lithuania  2007           5.808285  0.811       100.0         0.921   \n",
       "1097      Niger  2015           3.671454  0.624       100.0         0.930   \n",
       "\n",
       "        AFI  Democracy         GDPpc  Avg_Hours_Worked  U_Coverage  Ineq_Diff  \\\n",
       "654   0.675        1.0   5458.000000               NaN         NaN  78.440422   \n",
       "561   0.817        1.0   4103.556071               NaN         NaN  67.956332   \n",
       "787     NaN        0.0   3377.470366               NaN         NaN        NaN   \n",
       "860   0.951        1.0  20138.472410               NaN         9.3  22.274336   \n",
       "1097    NaN        1.0    913.000000               NaN         NaN  93.073129   \n",
       "\n",
       "       Ineq_Frac  \n",
       "654    96.519879  \n",
       "561    60.850571  \n",
       "787          NaN  \n",
       "860     8.704684  \n",
       "1097  632.503452  "
      ]
     },
     "execution_count": 4,
     "metadata": {},
     "output_type": "execute_result"
    }
   ],
   "source": [
    "# Data import 2\n",
    "df_full = pd.read_csv(\"Data/GeneratedData/Cleaned_Data_Full.csv\", index_col = \"Unnamed: 0\")\n",
    "df_full.sample(5)"
   ]
  },
  {
   "cell_type": "code",
   "execution_count": 5,
   "metadata": {},
   "outputs": [
    {
     "data": {
      "text/plain": [
       "1696"
      ]
     },
     "execution_count": 5,
     "metadata": {},
     "output_type": "execute_result"
    }
   ],
   "source": [
    "len(df_full)"
   ]
  },
  {
   "cell_type": "code",
   "execution_count": 6,
   "metadata": {},
   "outputs": [
    {
     "data": {
      "text/html": [
       "<div>\n",
       "<style scoped>\n",
       "    .dataframe tbody tr th:only-of-type {\n",
       "        vertical-align: middle;\n",
       "    }\n",
       "\n",
       "    .dataframe tbody tr th {\n",
       "        vertical-align: top;\n",
       "    }\n",
       "\n",
       "    .dataframe thead th {\n",
       "        text-align: right;\n",
       "    }\n",
       "</style>\n",
       "<table border=\"1\" class=\"dataframe\">\n",
       "  <thead>\n",
       "    <tr style=\"text-align: right;\">\n",
       "      <th></th>\n",
       "      <th>Country</th>\n",
       "      <th>Life_Satisfaction</th>\n",
       "      <th>EDI</th>\n",
       "      <th>Suffrage_%</th>\n",
       "      <th>Diag_Account</th>\n",
       "      <th>AFI</th>\n",
       "      <th>GDPpc</th>\n",
       "      <th>Avg_Hours_Worked</th>\n",
       "      <th>U_Coverage</th>\n",
       "      <th>Ineq_Frac</th>\n",
       "    </tr>\n",
       "  </thead>\n",
       "  <tbody>\n",
       "    <tr>\n",
       "      <th>1017</th>\n",
       "      <td>Morocco</td>\n",
       "      <td>5.386307</td>\n",
       "      <td>0.299</td>\n",
       "      <td>100.0</td>\n",
       "      <td>0.707</td>\n",
       "      <td>0.468</td>\n",
       "      <td>8039.000000</td>\n",
       "      <td>42.695793</td>\n",
       "      <td>13.849460</td>\n",
       "      <td>22.384369</td>\n",
       "    </tr>\n",
       "    <tr>\n",
       "      <th>1457</th>\n",
       "      <td>Taiwan</td>\n",
       "      <td>6.340344</td>\n",
       "      <td>0.817</td>\n",
       "      <td>100.0</td>\n",
       "      <td>0.927</td>\n",
       "      <td>0.887</td>\n",
       "      <td>39971.000000</td>\n",
       "      <td>39.233176</td>\n",
       "      <td>23.332356</td>\n",
       "      <td>13.137982</td>\n",
       "    </tr>\n",
       "    <tr>\n",
       "      <th>1454</th>\n",
       "      <td>Taiwan</td>\n",
       "      <td>6.228531</td>\n",
       "      <td>0.760</td>\n",
       "      <td>100.0</td>\n",
       "      <td>0.918</td>\n",
       "      <td>0.889</td>\n",
       "      <td>37385.489358</td>\n",
       "      <td>38.771868</td>\n",
       "      <td>39.300000</td>\n",
       "      <td>13.387112</td>\n",
       "    </tr>\n",
       "    <tr>\n",
       "      <th>39</th>\n",
       "      <td>Argentina</td>\n",
       "      <td>6.468387</td>\n",
       "      <td>0.816</td>\n",
       "      <td>100.0</td>\n",
       "      <td>0.905</td>\n",
       "      <td>0.885</td>\n",
       "      <td>19599.000000</td>\n",
       "      <td>40.733657</td>\n",
       "      <td>30.000000</td>\n",
       "      <td>10.460968</td>\n",
       "    </tr>\n",
       "    <tr>\n",
       "      <th>251</th>\n",
       "      <td>Cameroon</td>\n",
       "      <td>4.240441</td>\n",
       "      <td>0.354</td>\n",
       "      <td>100.0</td>\n",
       "      <td>0.726</td>\n",
       "      <td>0.403</td>\n",
       "      <td>2696.000000</td>\n",
       "      <td>44.894600</td>\n",
       "      <td>6.900000</td>\n",
       "      <td>90.786271</td>\n",
       "    </tr>\n",
       "  </tbody>\n",
       "</table>\n",
       "</div>"
      ],
      "text/plain": [
       "        Country  Life_Satisfaction    EDI  Suffrage_%  Diag_Account    AFI  \\\n",
       "1017    Morocco           5.386307  0.299       100.0         0.707  0.468   \n",
       "1457     Taiwan           6.340344  0.817       100.0         0.927  0.887   \n",
       "1454     Taiwan           6.228531  0.760       100.0         0.918  0.889   \n",
       "39    Argentina           6.468387  0.816       100.0         0.905  0.885   \n",
       "251    Cameroon           4.240441  0.354       100.0         0.726  0.403   \n",
       "\n",
       "             GDPpc  Avg_Hours_Worked  U_Coverage  Ineq_Frac  \n",
       "1017   8039.000000         42.695793   13.849460  22.384369  \n",
       "1457  39971.000000         39.233176   23.332356  13.137982  \n",
       "1454  37385.489358         38.771868   39.300000  13.387112  \n",
       "39    19599.000000         40.733657   30.000000  10.460968  \n",
       "251    2696.000000         44.894600    6.900000  90.786271  "
      ]
     },
     "execution_count": 6,
     "metadata": {},
     "output_type": "execute_result"
    }
   ],
   "source": [
    "# Data import 3\n",
    "df_I = pd.read_csv(\"Data/GeneratedData/Cleaned_Data_Imputed.csv\", index_col = \"Unnamed: 0\")\n",
    "df_I.sample(5)"
   ]
  },
  {
   "cell_type": "code",
   "execution_count": 7,
   "metadata": {},
   "outputs": [
    {
     "data": {
      "text/plain": [
       "1696"
      ]
     },
     "execution_count": 7,
     "metadata": {},
     "output_type": "execute_result"
    }
   ],
   "source": [
    "len(df_I)"
   ]
  },
  {
   "cell_type": "markdown",
   "metadata": {},
   "source": [
    "# Methods\n",
    "In this notebook, I will set up a machine learning pipeline, run various models, assess their results, and interpret these results."
   ]
  },
  {
   "cell_type": "markdown",
   "metadata": {},
   "source": [
    "## Logging Variables\n",
    "Before we get started, we're going to log both `GDPpc_2011_prices` and `Inequality_Frac`."
   ]
  },
  {
   "cell_type": "code",
   "execution_count": 8,
   "metadata": {},
   "outputs": [],
   "source": [
    "# Logs GDP per capita\n",
    "df['GDPpc'] =  np.where(df['GDPpc']==0,0,np.log(df['GDPpc']))\n",
    "df_full['GDPpc'] =  np.where(df_full['GDPpc']==0,0,np.log(df_full['GDPpc']))"
   ]
  },
  {
   "cell_type": "code",
   "execution_count": 9,
   "metadata": {},
   "outputs": [],
   "source": [
    "# Logs GDP per capita\n",
    "df['Ineq_Frac'] =  np.where(df['Ineq_Frac']==0,0,np.log(df['Ineq_Frac']))\n",
    "df_full['Ineq_Frac'] =  np.where(df_full['Ineq_Frac']==0,0,np.log(df_full['Ineq_Frac']))"
   ]
  },
  {
   "cell_type": "markdown",
   "metadata": {},
   "source": [
    "## Models"
   ]
  },
  {
   "cell_type": "markdown",
   "metadata": {},
   "source": [
    "## Restricted Fixed Effects\n",
    "The following analysis does NOT use the union membership and average work hours variables"
   ]
  },
  {
   "cell_type": "code",
   "execution_count": 10,
   "metadata": {},
   "outputs": [
    {
     "ename": "SyntaxError",
     "evalue": "invalid syntax (<unknown>, line 1)",
     "output_type": "error",
     "traceback": [
      "Traceback \u001b[1;36m(most recent call last)\u001b[0m:\n",
      "  File \u001b[0;32m\"C:\\Users\\Matt\\AppData\\Local\\Packages\\PythonSoftwareFoundation.Python.3.8_qbz5n2kfra8p0\\LocalCache\\local-packages\\Python38\\site-packages\\IPython\\core\\interactiveshell.py\"\u001b[0m, line \u001b[0;32m3417\u001b[0m, in \u001b[0;35mrun_code\u001b[0m\n    exec(code_obj, self.user_global_ns, self.user_ns)\n",
      "  File \u001b[0;32m\"<ipython-input-10-351f13e103ba>\"\u001b[0m, line \u001b[0;32m1\u001b[0m, in \u001b[0;35m<module>\u001b[0m\n    FE_ols = smf.ols(formula='Life_Satisfaction ~ 1 + Diag_Account + EDI + Suffrage_% + GDPpc + Ineq_Frac + AFI + C(Country)', data = df).fit()\n",
      "  File \u001b[0;32m\"C:\\Users\\Matt\\AppData\\Local\\Packages\\PythonSoftwareFoundation.Python.3.8_qbz5n2kfra8p0\\LocalCache\\local-packages\\Python38\\site-packages\\statsmodels\\base\\model.py\"\u001b[0m, line \u001b[0;32m169\u001b[0m, in \u001b[0;35mfrom_formula\u001b[0m\n    tmp = handle_formula_data(data, None, formula, depth=eval_env,\n",
      "  File \u001b[0;32m\"C:\\Users\\Matt\\AppData\\Local\\Packages\\PythonSoftwareFoundation.Python.3.8_qbz5n2kfra8p0\\LocalCache\\local-packages\\Python38\\site-packages\\statsmodels\\formula\\formulatools.py\"\u001b[0m, line \u001b[0;32m63\u001b[0m, in \u001b[0;35mhandle_formula_data\u001b[0m\n    result = dmatrices(formula, Y, depth, return_type='dataframe',\n",
      "  File \u001b[0;32m\"C:\\Users\\Matt\\AppData\\Local\\Packages\\PythonSoftwareFoundation.Python.3.8_qbz5n2kfra8p0\\LocalCache\\local-packages\\Python38\\site-packages\\patsy\\highlevel.py\"\u001b[0m, line \u001b[0;32m309\u001b[0m, in \u001b[0;35mdmatrices\u001b[0m\n    (lhs, rhs) = _do_highlevel_design(formula_like, data, eval_env,\n",
      "  File \u001b[0;32m\"C:\\Users\\Matt\\AppData\\Local\\Packages\\PythonSoftwareFoundation.Python.3.8_qbz5n2kfra8p0\\LocalCache\\local-packages\\Python38\\site-packages\\patsy\\highlevel.py\"\u001b[0m, line \u001b[0;32m164\u001b[0m, in \u001b[0;35m_do_highlevel_design\u001b[0m\n    design_infos = _try_incr_builders(formula_like, data_iter_maker, eval_env,\n",
      "  File \u001b[0;32m\"C:\\Users\\Matt\\AppData\\Local\\Packages\\PythonSoftwareFoundation.Python.3.8_qbz5n2kfra8p0\\LocalCache\\local-packages\\Python38\\site-packages\\patsy\\highlevel.py\"\u001b[0m, line \u001b[0;32m66\u001b[0m, in \u001b[0;35m_try_incr_builders\u001b[0m\n    return design_matrix_builders([formula_like.lhs_termlist,\n",
      "  File \u001b[0;32m\"C:\\Users\\Matt\\AppData\\Local\\Packages\\PythonSoftwareFoundation.Python.3.8_qbz5n2kfra8p0\\LocalCache\\local-packages\\Python38\\site-packages\\patsy\\build.py\"\u001b[0m, line \u001b[0;32m689\u001b[0m, in \u001b[0;35mdesign_matrix_builders\u001b[0m\n    factor_states = _factors_memorize(all_factors, data_iter_maker, eval_env)\n",
      "  File \u001b[0;32m\"C:\\Users\\Matt\\AppData\\Local\\Packages\\PythonSoftwareFoundation.Python.3.8_qbz5n2kfra8p0\\LocalCache\\local-packages\\Python38\\site-packages\\patsy\\build.py\"\u001b[0m, line \u001b[0;32m354\u001b[0m, in \u001b[0;35m_factors_memorize\u001b[0m\n    which_pass = factor.memorize_passes_needed(state, eval_env)\n",
      "  File \u001b[0;32m\"C:\\Users\\Matt\\AppData\\Local\\Packages\\PythonSoftwareFoundation.Python.3.8_qbz5n2kfra8p0\\LocalCache\\local-packages\\Python38\\site-packages\\patsy\\eval.py\"\u001b[0m, line \u001b[0;32m474\u001b[0m, in \u001b[0;35mmemorize_passes_needed\u001b[0m\n    subset_names = [name for name in ast_names(self.code)\n",
      "  File \u001b[0;32m\"C:\\Users\\Matt\\AppData\\Local\\Packages\\PythonSoftwareFoundation.Python.3.8_qbz5n2kfra8p0\\LocalCache\\local-packages\\Python38\\site-packages\\patsy\\eval.py\"\u001b[0m, line \u001b[0;32m474\u001b[0m, in \u001b[0;35m<listcomp>\u001b[0m\n    subset_names = [name for name in ast_names(self.code)\n",
      "  File \u001b[0;32m\"C:\\Users\\Matt\\AppData\\Local\\Packages\\PythonSoftwareFoundation.Python.3.8_qbz5n2kfra8p0\\LocalCache\\local-packages\\Python38\\site-packages\\patsy\\eval.py\"\u001b[0m, line \u001b[0;32m105\u001b[0m, in \u001b[0;35mast_names\u001b[0m\n    for node in ast.walk(ast.parse(code)):\n",
      "\u001b[1;36m  File \u001b[1;32m\"C:\\Program Files\\WindowsApps\\PythonSoftwareFoundation.Python.3.8_3.8.1776.0_x64__qbz5n2kfra8p0\\lib\\ast.py\"\u001b[1;36m, line \u001b[1;32m47\u001b[1;36m, in \u001b[1;35mparse\u001b[1;36m\u001b[0m\n\u001b[1;33m    return compile(source, filename, mode, flags,\u001b[0m\n",
      "\u001b[1;36m  File \u001b[1;32m\"<unknown>\"\u001b[1;36m, line \u001b[1;32m1\u001b[0m\n\u001b[1;33m    Suffrage_ %\u001b[0m\n\u001b[1;37m               ^\u001b[0m\n\u001b[1;31mSyntaxError\u001b[0m\u001b[1;31m:\u001b[0m invalid syntax\n"
     ]
    }
   ],
   "source": [
    "FE_ols = smf.ols(formula='Life_Satisfaction ~ 1 + Diag_Account + EDI + Suffrage + GDPpc + Ineq_Frac + AFI + C(Country)', data = df).fit()\n",
    "#print(FE_ols.summary())"
   ]
  },
  {
   "cell_type": "code",
   "execution_count": null,
   "metadata": {},
   "outputs": [],
   "source": [
    "# Converts the results to a dataframe\n",
    "results = FE_ols.summary()\n",
    "results_as_html = results.tables[1].as_html()\n",
    "results = pd.read_html(results_as_html, header=0, index_col=0)[0].reset_index()"
   ]
  },
  {
   "cell_type": "code",
   "execution_count": null,
   "metadata": {},
   "outputs": [],
   "source": [
    "results.loc[results[\"P>|t|\"] < 0.05]"
   ]
  },
  {
   "cell_type": "markdown",
   "metadata": {},
   "source": [
    "## Full Fixed Effects\n",
    "The following analysis uses the union membership and average work hours variables"
   ]
  },
  {
   "cell_type": "code",
   "execution_count": null,
   "metadata": {},
   "outputs": [],
   "source": [
    "FE_ols_full = smf.ols(formula='Life_Satisfaction ~ 1 + Diag_Account + EDI + Suffrage + GDPpc + Ineq_Frac + AFI + Avg_Hours_Worked + U_Coverage + C(Country)', data = df_full).fit()\n",
    "#print(FE_ols.summary())"
   ]
  },
  {
   "cell_type": "code",
   "execution_count": null,
   "metadata": {},
   "outputs": [],
   "source": [
    "# Converts the results to a dataframe\n",
    "results_full = FE_ols_full.summary()\n",
    "results_as_html = results_full.tables[1].as_html()\n",
    "results_full = pd.read_html(results_as_html, header=0, index_col=0)[0].reset_index()"
   ]
  },
  {
   "cell_type": "code",
   "execution_count": null,
   "metadata": {},
   "outputs": [],
   "source": [
    "results_full.loc[results_full[\"P>|t|\"] < 0.05]"
   ]
  },
  {
   "cell_type": "markdown",
   "metadata": {},
   "source": [
    "## Imputed Fixed Effects\n",
    "The following analysis uses the union membership and average work hours variables"
   ]
  },
  {
   "cell_type": "code",
   "execution_count": null,
   "metadata": {},
   "outputs": [],
   "source": [
    "FE_ols_I = smf.ols(formula='Life_Satisfaction ~ 1 + Diag_Account + EDI + Suffrage + GDPpc + Ineq_Frac + AFI + Avg_Hours_Worked + U_Coverage + C(Country)', data = df_I).fit()\n",
    "#print(FE_ols.summary())"
   ]
  },
  {
   "cell_type": "code",
   "execution_count": null,
   "metadata": {},
   "outputs": [],
   "source": [
    "# Converts the results to a dataframe\n",
    "results_I = FE_ols_I.summary()\n",
    "results_as_html = results_I.tables[1].as_html()\n",
    "results_I = pd.read_html(results_as_html, header=0, index_col=0)[0].reset_index()"
   ]
  },
  {
   "cell_type": "code",
   "execution_count": null,
   "metadata": {},
   "outputs": [],
   "source": [
    "results_I.loc[results_I[\"P>|t|\"] < 0.05]"
   ]
  },
  {
   "cell_type": "code",
   "execution_count": null,
   "metadata": {},
   "outputs": [],
   "source": [
    "len(results_I)"
   ]
  },
  {
   "cell_type": "code",
   "execution_count": null,
   "metadata": {},
   "outputs": [],
   "source": []
  }
 ],
 "metadata": {
  "kernelspec": {
   "display_name": "Python 3",
   "language": "python",
   "name": "python3"
  },
  "language_info": {
   "codemirror_mode": {
    "name": "ipython",
    "version": 3
   },
   "file_extension": ".py",
   "mimetype": "text/x-python",
   "name": "python",
   "nbconvert_exporter": "python",
   "pygments_lexer": "ipython3",
   "version": "3.8.6"
  }
 },
 "nbformat": 4,
 "nbformat_minor": 4
}
