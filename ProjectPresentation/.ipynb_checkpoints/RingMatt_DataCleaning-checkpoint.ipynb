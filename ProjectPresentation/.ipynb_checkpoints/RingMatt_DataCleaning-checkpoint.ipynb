{
 "cells": [
  {
   "cell_type": "code",
   "execution_count": 1,
   "metadata": {},
   "outputs": [],
   "source": [
    "# Basics\n",
    "import pandas as pd\n",
    "import numpy as np\n",
    "import matplotlib.pyplot as plt\n",
    "import seaborn as sns\n",
    "\n",
    "# Data Exploration\n",
    "import missingno as miss\n",
    "\n",
    "# Data Visualization\n",
    "from matplotlib import cm\n",
    "from pandas.plotting import table\n",
    "\n",
    "# Data Cleaning\n",
    "from sklearn.experimental import enable_iterative_imputer\n",
    "from sklearn.impute import IterativeImputer\n",
    "\n",
    "# Specialized Tools\n",
    "import country_converter as coco\n",
    "cc = coco.CountryConverter()"
   ]
  },
  {
   "cell_type": "code",
   "execution_count": 2,
   "metadata": {},
   "outputs": [],
   "source": [
    "# Function found at \n",
    "# https://stackoverflow.com/questions/26678467/export-a-pandas-dataframe-as-a-table-image\n",
    "\n",
    "from bokeh.io import export_png, export_svgs           \n",
    "from bokeh.models import ColumnDataSource, DataTable, TableColumn\n",
    "              \n",
    "def save_df_as_image(df, path):\n",
    "    source = ColumnDataSource(df)\n",
    "    df_columns = [df.index.name]\n",
    "    df_columns.extend(df.columns.values)\n",
    "    columns_for_table=[]\n",
    "    for column in df_columns:\n",
    "        columns_for_table.append(TableColumn(field=column, title=column))\n",
    "\n",
    "    data_table = DataTable(source=source, columns=columns_for_table,height_policy=\"auto\",width_policy=\"auto\",index_position=None)\n",
    "    export_png(data_table, filename = path)"
   ]
  },
  {
   "cell_type": "markdown",
   "metadata": {},
   "source": [
    "# Data Wrangling\n",
    "\n",
    "Here I will be importing, merging, exploring, cleaning, and pre-processing the data."
   ]
  },
  {
   "cell_type": "markdown",
   "metadata": {},
   "source": [
    "# Importing"
   ]
  },
  {
   "cell_type": "code",
   "execution_count": 3,
   "metadata": {},
   "outputs": [],
   "source": [
    "# Imports all of the datasets\n",
    "happy = pd.read_csv(\"Data/happiness.csv\")\n",
    "hours = pd.read_csv(\"Data/ilostat_hours_worked.csv\")\n",
    "ineq = pd.read_csv(\"Data/ilostat_inequality.csv\")\n",
    "unions = pd.read_csv(\"Data/ilostat_unions.csv\")\n",
    "union_density = pd.read_csv(\"Data/ilostat_union_density.csv\")\n",
    "work_safety = pd.read_csv(\"Data/ilostat_work_safety.csv\")\n",
    "vdem = pd.read_csv(\"Data/VDEM_core.csv\")\n",
    "econ = pd.read_excel(\"Data/maddison_proj_econ_metrics.xlsx\", sheet_name = \"GDP pc\")"
   ]
  },
  {
   "cell_type": "markdown",
   "metadata": {},
   "source": [
    "# Merging\n",
    "\n",
    "Our goal here is to merge each dataset such that there is one row per country per year. Some cleaning of some of these datasets will be necessary prior to merging."
   ]
  },
  {
   "cell_type": "markdown",
   "metadata": {},
   "source": [
    "## Happiness\n",
    "The following are preparations for merging the happiness dataset."
   ]
  },
  {
   "cell_type": "code",
   "execution_count": 4,
   "metadata": {},
   "outputs": [],
   "source": [
    "# Renames columns\n",
    "happy = happy.rename({\"Entity\":\"Country\", \n",
    "                      \"Life satisfaction in Cantril Ladder (World Happiness Report 2019)\":\"Life_Satisfaction\"}, \n",
    "                     axis = 1)"
   ]
  },
  {
   "cell_type": "code",
   "execution_count": 5,
   "metadata": {},
   "outputs": [],
   "source": [
    "# Standardizes Country Names\n",
    "happy[\"Country\"] = cc.convert(names = happy[\"Country\"].tolist(), to = 'name_short', not_found=None)"
   ]
  },
  {
   "cell_type": "code",
   "execution_count": 6,
   "metadata": {},
   "outputs": [
    {
     "data": {
      "text/html": [
       "<div>\n",
       "<style scoped>\n",
       "    .dataframe tbody tr th:only-of-type {\n",
       "        vertical-align: middle;\n",
       "    }\n",
       "\n",
       "    .dataframe tbody tr th {\n",
       "        vertical-align: top;\n",
       "    }\n",
       "\n",
       "    .dataframe thead th {\n",
       "        text-align: right;\n",
       "    }\n",
       "</style>\n",
       "<table border=\"1\" class=\"dataframe\">\n",
       "  <thead>\n",
       "    <tr style=\"text-align: right;\">\n",
       "      <th></th>\n",
       "      <th>Country</th>\n",
       "      <th>Code</th>\n",
       "      <th>Year</th>\n",
       "      <th>Life_Satisfaction</th>\n",
       "    </tr>\n",
       "  </thead>\n",
       "  <tbody>\n",
       "    <tr>\n",
       "      <th>1039</th>\n",
       "      <td>Mozambique</td>\n",
       "      <td>MOZ</td>\n",
       "      <td>2017</td>\n",
       "      <td>4.279863</td>\n",
       "    </tr>\n",
       "    <tr>\n",
       "      <th>1555</th>\n",
       "      <td>Uganda</td>\n",
       "      <td>UGA</td>\n",
       "      <td>2007</td>\n",
       "      <td>4.455839</td>\n",
       "    </tr>\n",
       "    <tr>\n",
       "      <th>595</th>\n",
       "      <td>Guinea</td>\n",
       "      <td>GIN</td>\n",
       "      <td>2017</td>\n",
       "      <td>4.873723</td>\n",
       "    </tr>\n",
       "    <tr>\n",
       "      <th>1235</th>\n",
       "      <td>Portugal</td>\n",
       "      <td>PRT</td>\n",
       "      <td>2014</td>\n",
       "      <td>5.126912</td>\n",
       "    </tr>\n",
       "    <tr>\n",
       "      <th>464</th>\n",
       "      <td>El Salvador</td>\n",
       "      <td>SLV</td>\n",
       "      <td>2010</td>\n",
       "      <td>6.739911</td>\n",
       "    </tr>\n",
       "  </tbody>\n",
       "</table>\n",
       "</div>"
      ],
      "text/plain": [
       "          Country Code  Year  Life_Satisfaction\n",
       "1039   Mozambique  MOZ  2017           4.279863\n",
       "1555       Uganda  UGA  2007           4.455839\n",
       "595        Guinea  GIN  2017           4.873723\n",
       "1235     Portugal  PRT  2014           5.126912\n",
       "464   El Salvador  SLV  2010           6.739911"
      ]
     },
     "execution_count": 6,
     "metadata": {},
     "output_type": "execute_result"
    }
   ],
   "source": [
    "happy.sample(5)"
   ]
  },
  {
   "cell_type": "markdown",
   "metadata": {},
   "source": [
    "## Weekly Hours Worked\n",
    "The following are preparations for merging the hours worked dataset."
   ]
  },
  {
   "cell_type": "code",
   "execution_count": 7,
   "metadata": {},
   "outputs": [],
   "source": [
    "# Renames important columns\n",
    "hours = hours.rename({\"ref_area.label\":\"Country\", \n",
    "                      \"time\":\"Year\",\n",
    "                      \"sex.label\":\"Sex\", \n",
    "                      \"obs_value\":\"Avg_Hours_Worked\"}, axis = 1)"
   ]
  },
  {
   "cell_type": "code",
   "execution_count": 8,
   "metadata": {},
   "outputs": [],
   "source": [
    "# Keeps only the total hours worked per week, not the data split by male or female\n",
    "hours = hours.loc[hours[\"Sex\"] == \"Sex: Total\"]"
   ]
  },
  {
   "cell_type": "code",
   "execution_count": 9,
   "metadata": {},
   "outputs": [],
   "source": [
    "# Removes extraneous columns\n",
    "hours = hours[[\"Country\", \"Year\", \"Avg_Hours_Worked\"]]"
   ]
  },
  {
   "cell_type": "code",
   "execution_count": 10,
   "metadata": {},
   "outputs": [],
   "source": [
    "# Standardizes Country Names\n",
    "hours[\"Country\"][hours[\"Country\"] == \"Macau, China\"] = \"Macau\"\n",
    "hours[\"Country\"] = cc.convert(names = hours[\"Country\"].tolist(), to = 'name_short', not_found=None)"
   ]
  },
  {
   "cell_type": "code",
   "execution_count": 11,
   "metadata": {},
   "outputs": [
    {
     "data": {
      "text/html": [
       "<div>\n",
       "<style scoped>\n",
       "    .dataframe tbody tr th:only-of-type {\n",
       "        vertical-align: middle;\n",
       "    }\n",
       "\n",
       "    .dataframe tbody tr th {\n",
       "        vertical-align: top;\n",
       "    }\n",
       "\n",
       "    .dataframe thead th {\n",
       "        text-align: right;\n",
       "    }\n",
       "</style>\n",
       "<table border=\"1\" class=\"dataframe\">\n",
       "  <thead>\n",
       "    <tr style=\"text-align: right;\">\n",
       "      <th></th>\n",
       "      <th>Country</th>\n",
       "      <th>Year</th>\n",
       "      <th>Avg_Hours_Worked</th>\n",
       "    </tr>\n",
       "  </thead>\n",
       "  <tbody>\n",
       "    <tr>\n",
       "      <th>291</th>\n",
       "      <td>Canada</td>\n",
       "      <td>2007</td>\n",
       "      <td>36.4312</td>\n",
       "    </tr>\n",
       "    <tr>\n",
       "      <th>204</th>\n",
       "      <td>Brazil</td>\n",
       "      <td>2014</td>\n",
       "      <td>39.7224</td>\n",
       "    </tr>\n",
       "    <tr>\n",
       "      <th>423</th>\n",
       "      <td>Costa Rica</td>\n",
       "      <td>2018</td>\n",
       "      <td>42.7179</td>\n",
       "    </tr>\n",
       "    <tr>\n",
       "      <th>1416</th>\n",
       "      <td>Vietnam</td>\n",
       "      <td>2012</td>\n",
       "      <td>42.5988</td>\n",
       "    </tr>\n",
       "    <tr>\n",
       "      <th>927</th>\n",
       "      <td>Macedonia</td>\n",
       "      <td>2016</td>\n",
       "      <td>41.6555</td>\n",
       "    </tr>\n",
       "  </tbody>\n",
       "</table>\n",
       "</div>"
      ],
      "text/plain": [
       "         Country  Year  Avg_Hours_Worked\n",
       "291       Canada  2007           36.4312\n",
       "204       Brazil  2014           39.7224\n",
       "423   Costa Rica  2018           42.7179\n",
       "1416     Vietnam  2012           42.5988\n",
       "927    Macedonia  2016           41.6555"
      ]
     },
     "execution_count": 11,
     "metadata": {},
     "output_type": "execute_result"
    }
   ],
   "source": [
    "hours.sample(5)"
   ]
  },
  {
   "cell_type": "markdown",
   "metadata": {},
   "source": [
    "## Inequality\n",
    "The following are preparations for merging the inequality dataset."
   ]
  },
  {
   "cell_type": "code",
   "execution_count": 12,
   "metadata": {},
   "outputs": [],
   "source": [
    "# Renames important columns\n",
    "ineq = ineq.rename({\"ref_area.label\":\"Country\", \n",
    "                      \"time\":\"Year\",\n",
    "                      \"classif1.label\":\"Income_Decile\",\n",
    "                      \"obs_value\":\"Income_Labor_Income\"}, axis = 1)"
   ]
  },
  {
   "cell_type": "code",
   "execution_count": 13,
   "metadata": {},
   "outputs": [],
   "source": [
    "# Creates two temporary datasets for the two measures of inequality we will use\n",
    "ineq_frac = ineq.copy()\n",
    "ineq_diff = ineq.copy()"
   ]
  },
  {
   "cell_type": "code",
   "execution_count": 14,
   "metadata": {},
   "outputs": [],
   "source": [
    "# Keeps only the bottom 5 Deciles and the top two Deciles\n",
    "ineq_diff = ineq_diff.loc[~ineq_diff[\"Income_Decile\"].isin([\"Decile: Decile 6\", \"Decile: Decile 7\", \"Decile: Decile 8\"])]"
   ]
  },
  {
   "cell_type": "code",
   "execution_count": 15,
   "metadata": {},
   "outputs": [],
   "source": [
    "# Replace the remaining names with \"Bottom_Half\" or \"Top_Quintile\"\n",
    "ineq_diff[\"Income_Decile\"] = ineq_diff[\"Income_Decile\"].replace({\"Decile: Decile 1\":\"Bottom_Half\", \n",
    "                                                       \"Decile: Decile 2\":\"Bottom_Half\",\n",
    "                                                       \"Decile: Decile 3\":\"Bottom_Half\",\n",
    "                                                       \"Decile: Decile 4\":\"Bottom_Half\",\n",
    "                                                       \"Decile: Decile 5\":\"Bottom_Half\",\n",
    "                                                       \"Decile: Decile 9\":\"Top_Quintile\",\n",
    "                                                       \"Decile: Decile 10\":\"Top_Quintile\"})"
   ]
  },
  {
   "cell_type": "code",
   "execution_count": 16,
   "metadata": {},
   "outputs": [],
   "source": [
    "# Sums the proportional earnings for the bottom half and top quintile\n",
    "# of each country's labor force\n",
    "ineq_diff = ineq_diff.groupby([\"Country\", \"Year\", \"Income_Decile\"]).sum().reset_index()"
   ]
  },
  {
   "cell_type": "code",
   "execution_count": 17,
   "metadata": {},
   "outputs": [],
   "source": [
    "# Calculates the difference in income of labor in the top 20%\n",
    "# vs. the income of labor in the bottom 50%\n",
    "ineq[\"Ineq_Frac\"] = ineq[\"Income_Labor_Income\"].div(ineq[\"Income_Labor_Income\"].shift(1))\n",
    "ineq_diff[\"Ineq_Diff\"] = ineq_diff[\"Income_Labor_Income\"].diff()"
   ]
  },
  {
   "cell_type": "code",
   "execution_count": 18,
   "metadata": {},
   "outputs": [],
   "source": [
    "# Removes the half of the data that contains the wrong values\n",
    "ineq_diff = ineq_diff.loc[ineq_diff[\"Income_Decile\"] == \"Top_Quintile\"]"
   ]
  },
  {
   "cell_type": "code",
   "execution_count": 19,
   "metadata": {},
   "outputs": [],
   "source": [
    "# Retains only the necessary columns\n",
    "ineq_diff = ineq_diff[[\"Country\", \"Year\", \"Ineq_Diff\"]]"
   ]
  },
  {
   "cell_type": "code",
   "execution_count": 20,
   "metadata": {},
   "outputs": [],
   "source": [
    "# Keeps only the bottom 2 Deciles and the top two Deciles\n",
    "ineq_frac = ineq_frac.loc[~ineq_frac[\"Income_Decile\"].isin([\"Decile: Decile 3\",\"Decile: Decile 4\",\n",
    "                                                            \"Decile: Decile 5\",\"Decile: Decile 6\", \n",
    "                                                            \"Decile: Decile 7\", \"Decile: Decile 8\"])]"
   ]
  },
  {
   "cell_type": "code",
   "execution_count": 21,
   "metadata": {},
   "outputs": [],
   "source": [
    "# Replace the remaining names with \"Bottom_Half\" or \"Top_Quintile\"\n",
    "ineq_frac[\"Income_Decile\"] = ineq_frac[\"Income_Decile\"].replace({\"Decile: Decile 1\":\"Bottom_Quintile\", \n",
    "                                                       \"Decile: Decile 2\":\"Bottom_Quintile\",\n",
    "                                                       \"Decile: Decile 9\":\"Top_Quintile\",\n",
    "                                                       \"Decile: Decile 10\":\"Top_Quintile\"})"
   ]
  },
  {
   "cell_type": "code",
   "execution_count": 22,
   "metadata": {},
   "outputs": [],
   "source": [
    "# Sums the proportional earnings for the bottom half and top quintile\n",
    "# of each country's labor force\n",
    "ineq_frac = ineq_frac.groupby([\"Country\", \"Year\", \"Income_Decile\"]).sum().reset_index()"
   ]
  },
  {
   "cell_type": "code",
   "execution_count": 23,
   "metadata": {},
   "outputs": [],
   "source": [
    "# Calculates how many times greater the top 20%'s incomes are\n",
    "# than the bottom 20%\n",
    "ineq_frac[\"Ineq_Frac\"] = ineq_frac[\"Income_Labor_Income\"].div(ineq_frac[\"Income_Labor_Income\"].shift(1))"
   ]
  },
  {
   "cell_type": "code",
   "execution_count": 24,
   "metadata": {},
   "outputs": [],
   "source": [
    "# Removes the half of the data that contains the wrong values\n",
    "ineq_frac = ineq_frac.loc[ineq_frac[\"Income_Decile\"] == \"Top_Quintile\"]"
   ]
  },
  {
   "cell_type": "code",
   "execution_count": 25,
   "metadata": {},
   "outputs": [],
   "source": [
    "# Retains only the necessary columns\n",
    "ineq_frac = ineq_frac[[\"Country\", \"Year\", \"Ineq_Frac\"]]"
   ]
  },
  {
   "cell_type": "code",
   "execution_count": 26,
   "metadata": {},
   "outputs": [],
   "source": [
    "# Merge the two measures of inequality\n",
    "ineq = pd.merge(ineq_diff, ineq_frac, on = [\"Country\", \"Year\"])"
   ]
  },
  {
   "cell_type": "code",
   "execution_count": 27,
   "metadata": {
    "jupyter": {
     "outputs_hidden": true
    }
   },
   "outputs": [
    {
     "name": "stderr",
     "output_type": "stream",
     "text": [
      "<ipython-input-27-2faefac0d509>:2: SettingWithCopyWarning: \n",
      "A value is trying to be set on a copy of a slice from a DataFrame\n",
      "\n",
      "See the caveats in the documentation: https://pandas.pydata.org/pandas-docs/stable/user_guide/indexing.html#returning-a-view-versus-a-copy\n",
      "  ineq[\"Country\"][ineq[\"Country\"] == \"Macau, China\"] = \"Macau\"\n",
      "ASEAN not found in regex\n",
      "ASEAN not found in regex\n",
      "ASEAN not found in regex\n",
      "ASEAN not found in regex\n",
      "ASEAN not found in regex\n",
      "ASEAN not found in regex\n",
      "ASEAN not found in regex\n",
      "ASEAN not found in regex\n",
      "ASEAN not found in regex\n",
      "ASEAN not found in regex\n",
      "ASEAN not found in regex\n",
      "ASEAN not found in regex\n",
      "ASEAN not found in regex\n",
      "ASEAN not found in regex\n",
      "Africa not found in regex\n",
      "Africa not found in regex\n",
      "Africa not found in regex\n",
      "Africa not found in regex\n",
      "Africa not found in regex\n",
      "Africa not found in regex\n",
      "Africa not found in regex\n",
      "Africa not found in regex\n",
      "Africa not found in regex\n",
      "Africa not found in regex\n",
      "Africa not found in regex\n",
      "Africa not found in regex\n",
      "Africa not found in regex\n",
      "Africa not found in regex\n",
      "Americas not found in regex\n",
      "Americas not found in regex\n",
      "Americas not found in regex\n",
      "Americas not found in regex\n",
      "Americas not found in regex\n",
      "Americas not found in regex\n",
      "Americas not found in regex\n",
      "Americas not found in regex\n",
      "Americas not found in regex\n",
      "Americas not found in regex\n",
      "Americas not found in regex\n",
      "Americas not found in regex\n",
      "Americas not found in regex\n",
      "Americas not found in regex\n",
      "Arab States not found in regex\n",
      "Arab States not found in regex\n",
      "Arab States not found in regex\n",
      "Arab States not found in regex\n",
      "Arab States not found in regex\n",
      "Arab States not found in regex\n",
      "Arab States not found in regex\n",
      "Arab States not found in regex\n",
      "Arab States not found in regex\n",
      "Arab States not found in regex\n",
      "Arab States not found in regex\n",
      "Arab States not found in regex\n",
      "Arab States not found in regex\n",
      "Arab States not found in regex\n",
      "Asia and the Pacific not found in regex\n",
      "Asia and the Pacific not found in regex\n",
      "Asia and the Pacific not found in regex\n",
      "Asia and the Pacific not found in regex\n",
      "Asia and the Pacific not found in regex\n",
      "Asia and the Pacific not found in regex\n",
      "Asia and the Pacific not found in regex\n",
      "Asia and the Pacific not found in regex\n",
      "Asia and the Pacific not found in regex\n",
      "Asia and the Pacific not found in regex\n",
      "Asia and the Pacific not found in regex\n",
      "Asia and the Pacific not found in regex\n",
      "Asia and the Pacific not found in regex\n",
      "Asia and the Pacific not found in regex\n",
      "BRICS not found in regex\n",
      "BRICS not found in regex\n",
      "BRICS not found in regex\n",
      "BRICS not found in regex\n",
      "BRICS not found in regex\n",
      "BRICS not found in regex\n",
      "BRICS not found in regex\n",
      "BRICS not found in regex\n",
      "BRICS not found in regex\n",
      "BRICS not found in regex\n",
      "BRICS not found in regex\n",
      "BRICS not found in regex\n",
      "BRICS not found in regex\n",
      "BRICS not found in regex\n",
      "Caribbean not found in regex\n",
      "Caribbean not found in regex\n",
      "Caribbean not found in regex\n",
      "Caribbean not found in regex\n",
      "Caribbean not found in regex\n",
      "Caribbean not found in regex\n",
      "Caribbean not found in regex\n",
      "Caribbean not found in regex\n",
      "Caribbean not found in regex\n",
      "Caribbean not found in regex\n",
      "Caribbean not found in regex\n",
      "Caribbean not found in regex\n",
      "Caribbean not found in regex\n",
      "Caribbean not found in regex\n",
      "Central Africa not found in regex\n",
      "Central Africa not found in regex\n",
      "Central Africa not found in regex\n",
      "Central Africa not found in regex\n",
      "Central Africa not found in regex\n",
      "Central Africa not found in regex\n",
      "Central Africa not found in regex\n",
      "Central Africa not found in regex\n",
      "Central Africa not found in regex\n",
      "Central Africa not found in regex\n",
      "Central Africa not found in regex\n",
      "Central Africa not found in regex\n",
      "Central Africa not found in regex\n",
      "Central Africa not found in regex\n",
      "Central America not found in regex\n",
      "Central America not found in regex\n",
      "Central America not found in regex\n",
      "Central America not found in regex\n",
      "Central America not found in regex\n",
      "Central America not found in regex\n",
      "Central America not found in regex\n",
      "Central America not found in regex\n",
      "Central America not found in regex\n",
      "Central America not found in regex\n",
      "Central America not found in regex\n",
      "Central America not found in regex\n",
      "Central America not found in regex\n",
      "Central America not found in regex\n",
      "Central Asia not found in regex\n",
      "Central Asia not found in regex\n",
      "Central Asia not found in regex\n",
      "Central Asia not found in regex\n",
      "Central Asia not found in regex\n",
      "Central Asia not found in regex\n",
      "Central Asia not found in regex\n",
      "Central Asia not found in regex\n",
      "Central Asia not found in regex\n",
      "Central Asia not found in regex\n",
      "Central Asia not found in regex\n",
      "Central Asia not found in regex\n",
      "Central Asia not found in regex\n",
      "Central Asia not found in regex\n",
      "Central and Western Asia not found in regex\n",
      "Central and Western Asia not found in regex\n",
      "Central and Western Asia not found in regex\n",
      "Central and Western Asia not found in regex\n",
      "Central and Western Asia not found in regex\n",
      "Central and Western Asia not found in regex\n",
      "Central and Western Asia not found in regex\n",
      "Central and Western Asia not found in regex\n",
      "Central and Western Asia not found in regex\n",
      "Central and Western Asia not found in regex\n",
      "Central and Western Asia not found in regex\n",
      "Central and Western Asia not found in regex\n",
      "Central and Western Asia not found in regex\n",
      "Central and Western Asia not found in regex\n",
      "Channel Islands not found in regex\n",
      "Channel Islands not found in regex\n",
      "Channel Islands not found in regex\n",
      "Channel Islands not found in regex\n",
      "Channel Islands not found in regex\n",
      "Channel Islands not found in regex\n",
      "Channel Islands not found in regex\n",
      "Channel Islands not found in regex\n",
      "Channel Islands not found in regex\n",
      "Channel Islands not found in regex\n",
      "Channel Islands not found in regex\n",
      "Channel Islands not found in regex\n",
      "Channel Islands not found in regex\n",
      "Channel Islands not found in regex\n",
      "Eastern Africa not found in regex\n",
      "Eastern Africa not found in regex\n",
      "Eastern Africa not found in regex\n",
      "Eastern Africa not found in regex\n",
      "Eastern Africa not found in regex\n",
      "Eastern Africa not found in regex\n",
      "Eastern Africa not found in regex\n",
      "Eastern Africa not found in regex\n",
      "Eastern Africa not found in regex\n",
      "Eastern Africa not found in regex\n",
      "Eastern Africa not found in regex\n",
      "Eastern Africa not found in regex\n",
      "Eastern Africa not found in regex\n",
      "Eastern Africa not found in regex\n",
      "Eastern Asia not found in regex\n",
      "Eastern Asia not found in regex\n",
      "Eastern Asia not found in regex\n",
      "Eastern Asia not found in regex\n",
      "Eastern Asia not found in regex\n",
      "Eastern Asia not found in regex\n",
      "Eastern Asia not found in regex\n",
      "Eastern Asia not found in regex\n",
      "Eastern Asia not found in regex\n",
      "Eastern Asia not found in regex\n",
      "Eastern Asia not found in regex\n",
      "Eastern Asia not found in regex\n",
      "Eastern Asia not found in regex\n",
      "Eastern Asia not found in regex\n",
      "Eastern Europe not found in regex\n",
      "Eastern Europe not found in regex\n",
      "Eastern Europe not found in regex\n",
      "Eastern Europe not found in regex\n",
      "Eastern Europe not found in regex\n",
      "Eastern Europe not found in regex\n",
      "Eastern Europe not found in regex\n",
      "Eastern Europe not found in regex\n",
      "Eastern Europe not found in regex\n",
      "Eastern Europe not found in regex\n",
      "Eastern Europe not found in regex\n",
      "Eastern Europe not found in regex\n",
      "Eastern Europe not found in regex\n",
      "Eastern Europe not found in regex\n",
      "Europe and Central Asia not found in regex\n",
      "Europe and Central Asia not found in regex\n",
      "Europe and Central Asia not found in regex\n",
      "Europe and Central Asia not found in regex\n",
      "Europe and Central Asia not found in regex\n",
      "Europe and Central Asia not found in regex\n",
      "Europe and Central Asia not found in regex\n",
      "Europe and Central Asia not found in regex\n",
      "Europe and Central Asia not found in regex\n",
      "Europe and Central Asia not found in regex\n",
      "Europe and Central Asia not found in regex\n",
      "Europe and Central Asia not found in regex\n",
      "Europe and Central Asia not found in regex\n",
      "Europe and Central Asia not found in regex\n",
      "European Union 28 not found in regex\n",
      "European Union 28 not found in regex\n",
      "European Union 28 not found in regex\n",
      "European Union 28 not found in regex\n",
      "European Union 28 not found in regex\n",
      "European Union 28 not found in regex\n",
      "European Union 28 not found in regex\n",
      "European Union 28 not found in regex\n",
      "European Union 28 not found in regex\n",
      "European Union 28 not found in regex\n",
      "European Union 28 not found in regex\n",
      "European Union 28 not found in regex\n",
      "European Union 28 not found in regex\n",
      "European Union 28 not found in regex\n"
     ]
    },
    {
     "name": "stderr",
     "output_type": "stream",
     "text": [
      "Latin America and the Caribbean not found in regex\n",
      "Latin America and the Caribbean not found in regex\n",
      "Latin America and the Caribbean not found in regex\n",
      "Latin America and the Caribbean not found in regex\n",
      "Latin America and the Caribbean not found in regex\n",
      "Latin America and the Caribbean not found in regex\n",
      "Latin America and the Caribbean not found in regex\n",
      "Latin America and the Caribbean not found in regex\n",
      "Latin America and the Caribbean not found in regex\n",
      "Latin America and the Caribbean not found in regex\n",
      "Latin America and the Caribbean not found in regex\n",
      "Latin America and the Caribbean not found in regex\n",
      "Latin America and the Caribbean not found in regex\n",
      "Latin America and the Caribbean not found in regex\n",
      "Northern Africa not found in regex\n",
      "Northern Africa not found in regex\n",
      "Northern Africa not found in regex\n",
      "Northern Africa not found in regex\n",
      "Northern Africa not found in regex\n",
      "Northern Africa not found in regex\n",
      "Northern Africa not found in regex\n",
      "Northern Africa not found in regex\n",
      "Northern Africa not found in regex\n",
      "Northern Africa not found in regex\n",
      "Northern Africa not found in regex\n",
      "Northern Africa not found in regex\n",
      "Northern Africa not found in regex\n",
      "Northern Africa not found in regex\n",
      "Northern America not found in regex\n",
      "Northern America not found in regex\n",
      "Northern America not found in regex\n",
      "Northern America not found in regex\n",
      "Northern America not found in regex\n",
      "Northern America not found in regex\n",
      "Northern America not found in regex\n",
      "Northern America not found in regex\n",
      "Northern America not found in regex\n",
      "Northern America not found in regex\n",
      "Northern America not found in regex\n",
      "Northern America not found in regex\n",
      "Northern America not found in regex\n",
      "Northern America not found in regex\n",
      "Northern Europe not found in regex\n",
      "Northern Europe not found in regex\n",
      "Northern Europe not found in regex\n",
      "Northern Europe not found in regex\n",
      "Northern Europe not found in regex\n",
      "Northern Europe not found in regex\n",
      "Northern Europe not found in regex\n",
      "Northern Europe not found in regex\n",
      "Northern Europe not found in regex\n",
      "Northern Europe not found in regex\n",
      "Northern Europe not found in regex\n",
      "Northern Europe not found in regex\n",
      "Northern Europe not found in regex\n",
      "Northern Europe not found in regex\n",
      "Northern, Southern and Western Europe not found in regex\n",
      "Northern, Southern and Western Europe not found in regex\n",
      "Northern, Southern and Western Europe not found in regex\n",
      "Northern, Southern and Western Europe not found in regex\n",
      "Northern, Southern and Western Europe not found in regex\n",
      "Northern, Southern and Western Europe not found in regex\n",
      "Northern, Southern and Western Europe not found in regex\n",
      "Northern, Southern and Western Europe not found in regex\n",
      "Northern, Southern and Western Europe not found in regex\n",
      "Northern, Southern and Western Europe not found in regex\n",
      "Northern, Southern and Western Europe not found in regex\n",
      "Northern, Southern and Western Europe not found in regex\n",
      "Northern, Southern and Western Europe not found in regex\n",
      "Northern, Southern and Western Europe not found in regex\n",
      "Pacific Islands not found in regex\n",
      "Pacific Islands not found in regex\n",
      "Pacific Islands not found in regex\n",
      "Pacific Islands not found in regex\n",
      "Pacific Islands not found in regex\n",
      "Pacific Islands not found in regex\n",
      "Pacific Islands not found in regex\n",
      "Pacific Islands not found in regex\n",
      "Pacific Islands not found in regex\n",
      "Pacific Islands not found in regex\n",
      "Pacific Islands not found in regex\n",
      "Pacific Islands not found in regex\n",
      "Pacific Islands not found in regex\n",
      "Pacific Islands not found in regex\n",
      "South America not found in regex\n",
      "South America not found in regex\n",
      "South America not found in regex\n",
      "South America not found in regex\n",
      "South America not found in regex\n",
      "South America not found in regex\n",
      "South America not found in regex\n",
      "South America not found in regex\n",
      "South America not found in regex\n",
      "South America not found in regex\n",
      "South America not found in regex\n",
      "South America not found in regex\n",
      "South America not found in regex\n",
      "South America not found in regex\n",
      "South-Eastern Asia not found in regex\n",
      "South-Eastern Asia not found in regex\n",
      "South-Eastern Asia not found in regex\n",
      "South-Eastern Asia not found in regex\n",
      "South-Eastern Asia not found in regex\n",
      "South-Eastern Asia not found in regex\n",
      "South-Eastern Asia not found in regex\n",
      "South-Eastern Asia not found in regex\n",
      "South-Eastern Asia not found in regex\n",
      "South-Eastern Asia not found in regex\n",
      "South-Eastern Asia not found in regex\n",
      "South-Eastern Asia not found in regex\n",
      "South-Eastern Asia not found in regex\n",
      "South-Eastern Asia not found in regex\n",
      "South-Eastern Asia and the Pacific not found in regex\n",
      "South-Eastern Asia and the Pacific not found in regex\n",
      "South-Eastern Asia and the Pacific not found in regex\n",
      "South-Eastern Asia and the Pacific not found in regex\n",
      "South-Eastern Asia and the Pacific not found in regex\n",
      "South-Eastern Asia and the Pacific not found in regex\n",
      "South-Eastern Asia and the Pacific not found in regex\n",
      "South-Eastern Asia and the Pacific not found in regex\n",
      "South-Eastern Asia and the Pacific not found in regex\n",
      "South-Eastern Asia and the Pacific not found in regex\n",
      "South-Eastern Asia and the Pacific not found in regex\n",
      "South-Eastern Asia and the Pacific not found in regex\n",
      "South-Eastern Asia and the Pacific not found in regex\n",
      "South-Eastern Asia and the Pacific not found in regex\n",
      "Southern Asia not found in regex\n",
      "Southern Asia not found in regex\n",
      "Southern Asia not found in regex\n",
      "Southern Asia not found in regex\n",
      "Southern Asia not found in regex\n",
      "Southern Asia not found in regex\n",
      "Southern Asia not found in regex\n",
      "Southern Asia not found in regex\n",
      "Southern Asia not found in regex\n",
      "Southern Asia not found in regex\n",
      "Southern Asia not found in regex\n",
      "Southern Asia not found in regex\n",
      "Southern Asia not found in regex\n",
      "Southern Asia not found in regex\n",
      "Southern Europe not found in regex\n",
      "Southern Europe not found in regex\n",
      "Southern Europe not found in regex\n",
      "Southern Europe not found in regex\n",
      "Southern Europe not found in regex\n",
      "Southern Europe not found in regex\n",
      "Southern Europe not found in regex\n",
      "Southern Europe not found in regex\n",
      "Southern Europe not found in regex\n",
      "Southern Europe not found in regex\n",
      "Southern Europe not found in regex\n",
      "Southern Europe not found in regex\n",
      "Southern Europe not found in regex\n",
      "Southern Europe not found in regex\n",
      "Sub-Saharan Africa not found in regex\n",
      "Sub-Saharan Africa not found in regex\n",
      "Sub-Saharan Africa not found in regex\n",
      "Sub-Saharan Africa not found in regex\n",
      "Sub-Saharan Africa not found in regex\n",
      "Sub-Saharan Africa not found in regex\n",
      "Sub-Saharan Africa not found in regex\n",
      "Sub-Saharan Africa not found in regex\n",
      "Sub-Saharan Africa not found in regex\n",
      "Sub-Saharan Africa not found in regex\n",
      "Sub-Saharan Africa not found in regex\n",
      "Sub-Saharan Africa not found in regex\n",
      "Sub-Saharan Africa not found in regex\n",
      "Sub-Saharan Africa not found in regex\n",
      "Western Africa not found in regex\n",
      "Western Africa not found in regex\n",
      "Western Africa not found in regex\n",
      "Western Africa not found in regex\n",
      "Western Africa not found in regex\n",
      "Western Africa not found in regex\n",
      "Western Africa not found in regex\n",
      "Western Africa not found in regex\n",
      "Western Africa not found in regex\n",
      "Western Africa not found in regex\n",
      "Western Africa not found in regex\n",
      "Western Africa not found in regex\n",
      "Western Africa not found in regex\n",
      "Western Africa not found in regex\n",
      "Western Asia not found in regex\n",
      "Western Asia not found in regex\n",
      "Western Asia not found in regex\n",
      "Western Asia not found in regex\n",
      "Western Asia not found in regex\n",
      "Western Asia not found in regex\n",
      "Western Asia not found in regex\n",
      "Western Asia not found in regex\n",
      "Western Asia not found in regex\n",
      "Western Asia not found in regex\n",
      "Western Asia not found in regex\n",
      "Western Asia not found in regex\n",
      "Western Asia not found in regex\n",
      "Western Asia not found in regex\n",
      "Western Europe not found in regex\n",
      "Western Europe not found in regex\n",
      "Western Europe not found in regex\n",
      "Western Europe not found in regex\n",
      "Western Europe not found in regex\n",
      "Western Europe not found in regex\n",
      "Western Europe not found in regex\n",
      "Western Europe not found in regex\n",
      "Western Europe not found in regex\n",
      "Western Europe not found in regex\n",
      "Western Europe not found in regex\n",
      "Western Europe not found in regex\n",
      "Western Europe not found in regex\n",
      "Western Europe not found in regex\n",
      "World not found in regex\n",
      "World not found in regex\n",
      "World not found in regex\n"
     ]
    },
    {
     "name": "stderr",
     "output_type": "stream",
     "text": [
      "World not found in regex\n",
      "World not found in regex\n",
      "World not found in regex\n",
      "World not found in regex\n",
      "World not found in regex\n",
      "World not found in regex\n",
      "World not found in regex\n",
      "World not found in regex\n",
      "World not found in regex\n",
      "World not found in regex\n",
      "World not found in regex\n",
      "World  not found in regex\n",
      "World  not found in regex\n",
      "World  not found in regex\n",
      "World  not found in regex\n",
      "World  not found in regex\n",
      "World  not found in regex\n",
      "World  not found in regex\n",
      "World  not found in regex\n",
      "World  not found in regex\n",
      "World  not found in regex\n",
      "World  not found in regex\n",
      "World  not found in regex\n",
      "World  not found in regex\n",
      "World  not found in regex\n"
     ]
    }
   ],
   "source": [
    "# Standardizes Country Names\n",
    "ineq[\"Country\"][ineq[\"Country\"] == \"Macau, China\"] = \"Macau\"\n",
    "ineq[\"Country\"] = cc.convert(names = ineq[\"Country\"].tolist(), to = 'name_short', not_found=None)"
   ]
  },
  {
   "cell_type": "markdown",
   "metadata": {},
   "source": [
    "### Variable Descriptions\n",
    "\n",
    "As these variables were created, they require some definition.\n",
    "\n",
    "`Ineq_Frac` shows the percent of a country's total labor income the top 20% earn more than the bottom 50%. Thus, an `Ineq_Diff` of 45% means the top 20% of laborers in a country receive 45% more of the nation's labor income than the bottom 50% of laborers. This could mean the top 20% take home 65% of the nation's total labor income while the bottom 50% take home 20%.\n",
    "\n",
    "`Ineq_Frac` divides the fraction a country's total labor income the top 20% earn by the earnings of the bottom 20%. Thus, if the top 20% earn 50% of the nation's total labor income and the bottom 20% earn 5%, then `Ineq_Frac` will equal 10. *Essentially, this number is how many times more the wealthy earn than the poor in a country.*\n",
    "\n",
    "***These two variables will be highly correlated.***"
   ]
  },
  {
   "cell_type": "code",
   "execution_count": 28,
   "metadata": {},
   "outputs": [
    {
     "data": {
      "text/html": [
       "<div>\n",
       "<style scoped>\n",
       "    .dataframe tbody tr th:only-of-type {\n",
       "        vertical-align: middle;\n",
       "    }\n",
       "\n",
       "    .dataframe tbody tr th {\n",
       "        vertical-align: top;\n",
       "    }\n",
       "\n",
       "    .dataframe thead th {\n",
       "        text-align: right;\n",
       "    }\n",
       "</style>\n",
       "<table border=\"1\" class=\"dataframe\">\n",
       "  <thead>\n",
       "    <tr style=\"text-align: right;\">\n",
       "      <th></th>\n",
       "      <th>Country</th>\n",
       "      <th>Year</th>\n",
       "      <th>Ineq_Diff</th>\n",
       "      <th>Ineq_Frac</th>\n",
       "    </tr>\n",
       "  </thead>\n",
       "  <tbody>\n",
       "    <tr>\n",
       "      <th>1244</th>\n",
       "      <td>Honduras</td>\n",
       "      <td>2016</td>\n",
       "      <td>34.790948</td>\n",
       "      <td>17.158812</td>\n",
       "    </tr>\n",
       "    <tr>\n",
       "      <th>2851</th>\n",
       "      <td>Uganda</td>\n",
       "      <td>2013</td>\n",
       "      <td>86.349740</td>\n",
       "      <td>249.858762</td>\n",
       "    </tr>\n",
       "    <tr>\n",
       "      <th>102</th>\n",
       "      <td>Arab States</td>\n",
       "      <td>2008</td>\n",
       "      <td>45.342878</td>\n",
       "      <td>30.449059</td>\n",
       "    </tr>\n",
       "    <tr>\n",
       "      <th>836</th>\n",
       "      <td>Eastern Africa</td>\n",
       "      <td>2014</td>\n",
       "      <td>73.815852</td>\n",
       "      <td>96.872043</td>\n",
       "    </tr>\n",
       "    <tr>\n",
       "      <th>82</th>\n",
       "      <td>Americas</td>\n",
       "      <td>2016</td>\n",
       "      <td>48.028404</td>\n",
       "      <td>30.705913</td>\n",
       "    </tr>\n",
       "  </tbody>\n",
       "</table>\n",
       "</div>"
      ],
      "text/plain": [
       "             Country  Year  Ineq_Diff   Ineq_Frac\n",
       "1244        Honduras  2016  34.790948   17.158812\n",
       "2851          Uganda  2013  86.349740  249.858762\n",
       "102      Arab States  2008  45.342878   30.449059\n",
       "836   Eastern Africa  2014  73.815852   96.872043\n",
       "82          Americas  2016  48.028404   30.705913"
      ]
     },
     "execution_count": 28,
     "metadata": {},
     "output_type": "execute_result"
    }
   ],
   "source": [
    "ineq.sample(5)"
   ]
  },
  {
   "cell_type": "markdown",
   "metadata": {},
   "source": [
    "## Union Membership\n",
    "The following are preparations for merging the union membership dataset."
   ]
  },
  {
   "cell_type": "code",
   "execution_count": 29,
   "metadata": {},
   "outputs": [],
   "source": [
    "# Renames important columns\n",
    "unions = unions.rename({\"ref_area.label\":\"Country\", \n",
    "                      \"time\":\"Year\",\n",
    "                      \"obs_value\":\"U_Coverage\"}, axis = 1)"
   ]
  },
  {
   "cell_type": "code",
   "execution_count": 30,
   "metadata": {},
   "outputs": [],
   "source": [
    "# Removes extraneous columns\n",
    "unions = unions[[\"Country\", \"Year\", \"U_Coverage\"]]"
   ]
  },
  {
   "cell_type": "code",
   "execution_count": 31,
   "metadata": {},
   "outputs": [],
   "source": [
    "# Standardizes Country Names\n",
    "unions[\"Country\"][unions[\"Country\"] == \"Macau, China\"] = \"Macau\"\n",
    "unions[\"Country\"] = cc.convert(names = unions[\"Country\"].tolist(), to = 'name_short')"
   ]
  },
  {
   "cell_type": "code",
   "execution_count": 32,
   "metadata": {},
   "outputs": [
    {
     "data": {
      "text/html": [
       "<div>\n",
       "<style scoped>\n",
       "    .dataframe tbody tr th:only-of-type {\n",
       "        vertical-align: middle;\n",
       "    }\n",
       "\n",
       "    .dataframe tbody tr th {\n",
       "        vertical-align: top;\n",
       "    }\n",
       "\n",
       "    .dataframe thead th {\n",
       "        text-align: right;\n",
       "    }\n",
       "</style>\n",
       "<table border=\"1\" class=\"dataframe\">\n",
       "  <thead>\n",
       "    <tr style=\"text-align: right;\">\n",
       "      <th></th>\n",
       "      <th>Country</th>\n",
       "      <th>Year</th>\n",
       "      <th>U_Coverage</th>\n",
       "    </tr>\n",
       "  </thead>\n",
       "  <tbody>\n",
       "    <tr>\n",
       "      <th>501</th>\n",
       "      <td>Luxembourg</td>\n",
       "      <td>2006</td>\n",
       "      <td>40.1</td>\n",
       "    </tr>\n",
       "    <tr>\n",
       "      <th>584</th>\n",
       "      <td>Netherlands</td>\n",
       "      <td>2004</td>\n",
       "      <td>21.3</td>\n",
       "    </tr>\n",
       "    <tr>\n",
       "      <th>467</th>\n",
       "      <td>South Korea</td>\n",
       "      <td>2001</td>\n",
       "      <td>11.5</td>\n",
       "    </tr>\n",
       "    <tr>\n",
       "      <th>427</th>\n",
       "      <td>Italy</td>\n",
       "      <td>2000</td>\n",
       "      <td>34.4</td>\n",
       "    </tr>\n",
       "    <tr>\n",
       "      <th>109</th>\n",
       "      <td>Canada</td>\n",
       "      <td>2011</td>\n",
       "      <td>29.0</td>\n",
       "    </tr>\n",
       "  </tbody>\n",
       "</table>\n",
       "</div>"
      ],
      "text/plain": [
       "         Country  Year  U_Coverage\n",
       "501   Luxembourg  2006        40.1\n",
       "584  Netherlands  2004        21.3\n",
       "467  South Korea  2001        11.5\n",
       "427        Italy  2000        34.4\n",
       "109       Canada  2011        29.0"
      ]
     },
     "execution_count": 32,
     "metadata": {},
     "output_type": "execute_result"
    }
   ],
   "source": [
    "unions.sample(5)"
   ]
  },
  {
   "cell_type": "markdown",
   "metadata": {},
   "source": [
    "## Union Density\n",
    "The following are preparations for merging the union density rate dataset."
   ]
  },
  {
   "cell_type": "code",
   "execution_count": 33,
   "metadata": {},
   "outputs": [],
   "source": [
    "# Renames important columns\n",
    "union_density = union_density.rename({\"ref_area.label\":\"Country\", \n",
    "                                      \"time\":\"Year\",\n",
    "                                      \"obs_value\":\"U_Density\"}, axis = 1)"
   ]
  },
  {
   "cell_type": "code",
   "execution_count": 34,
   "metadata": {},
   "outputs": [],
   "source": [
    "# Removes extraneous columns\n",
    "union_density = union_density[[\"Country\", \"Year\", \"U_Density\"]]"
   ]
  },
  {
   "cell_type": "code",
   "execution_count": 35,
   "metadata": {},
   "outputs": [],
   "source": [
    "# Standardizes Country Names\n",
    "union_density[\"Country\"][union_density[\"Country\"] == \"Macau, China\"] = \"Macau\"\n",
    "union_density[\"Country\"] = cc.convert(names = union_density[\"Country\"].tolist(), to = 'name_short')"
   ]
  },
  {
   "cell_type": "code",
   "execution_count": 36,
   "metadata": {},
   "outputs": [
    {
     "data": {
      "text/html": [
       "<div>\n",
       "<style scoped>\n",
       "    .dataframe tbody tr th:only-of-type {\n",
       "        vertical-align: middle;\n",
       "    }\n",
       "\n",
       "    .dataframe tbody tr th {\n",
       "        vertical-align: top;\n",
       "    }\n",
       "\n",
       "    .dataframe thead th {\n",
       "        text-align: right;\n",
       "    }\n",
       "</style>\n",
       "<table border=\"1\" class=\"dataframe\">\n",
       "  <thead>\n",
       "    <tr style=\"text-align: right;\">\n",
       "      <th></th>\n",
       "      <th>Country</th>\n",
       "      <th>Year</th>\n",
       "      <th>U_Density</th>\n",
       "    </tr>\n",
       "  </thead>\n",
       "  <tbody>\n",
       "    <tr>\n",
       "      <th>406</th>\n",
       "      <td>Ireland</td>\n",
       "      <td>2012</td>\n",
       "      <td>31.1</td>\n",
       "    </tr>\n",
       "    <tr>\n",
       "      <th>93</th>\n",
       "      <td>Brazil</td>\n",
       "      <td>2011</td>\n",
       "      <td>17.5</td>\n",
       "    </tr>\n",
       "    <tr>\n",
       "      <th>33</th>\n",
       "      <td>Australia</td>\n",
       "      <td>2012</td>\n",
       "      <td>18.2</td>\n",
       "    </tr>\n",
       "    <tr>\n",
       "      <th>370</th>\n",
       "      <td>Hong Kong</td>\n",
       "      <td>2016</td>\n",
       "      <td>26.1</td>\n",
       "    </tr>\n",
       "    <tr>\n",
       "      <th>18</th>\n",
       "      <td>Armenia</td>\n",
       "      <td>2013</td>\n",
       "      <td>33.9</td>\n",
       "    </tr>\n",
       "  </tbody>\n",
       "</table>\n",
       "</div>"
      ],
      "text/plain": [
       "       Country  Year  U_Density\n",
       "406    Ireland  2012       31.1\n",
       "93      Brazil  2011       17.5\n",
       "33   Australia  2012       18.2\n",
       "370  Hong Kong  2016       26.1\n",
       "18     Armenia  2013       33.9"
      ]
     },
     "execution_count": 36,
     "metadata": {},
     "output_type": "execute_result"
    }
   ],
   "source": [
    "union_density.sample(5)"
   ]
  },
  {
   "cell_type": "markdown",
   "metadata": {},
   "source": [
    "## Work Safety\n",
    "The following are preparations for merging the non-fatal occupational injuries per 100,000 workers dataset."
   ]
  },
  {
   "cell_type": "code",
   "execution_count": 37,
   "metadata": {},
   "outputs": [],
   "source": [
    "# Keeps only the total hours worked per week, not the data split by industry\n",
    "work_safety = work_safety.loc[work_safety[\"classif1.label\"] == \"Economic activity (ISIC-Rev.3.1): Total\"]"
   ]
  },
  {
   "cell_type": "code",
   "execution_count": 38,
   "metadata": {},
   "outputs": [],
   "source": [
    "# Renames important columns\n",
    "work_safety = work_safety.rename({\"ref_area.label\":\"Country\", \n",
    "                                      \"time\":\"Year\",\n",
    "                                      \"obs_value\":\"Injuries_per_100000_Workers\"}, axis = 1)"
   ]
  },
  {
   "cell_type": "code",
   "execution_count": 39,
   "metadata": {},
   "outputs": [],
   "source": [
    "# Removes extraneous columns\n",
    "work_safety = work_safety[[\"Country\", \"Year\", \"Injuries_per_100000_Workers\"]]"
   ]
  },
  {
   "cell_type": "code",
   "execution_count": 40,
   "metadata": {},
   "outputs": [],
   "source": [
    "# Standardizes Country Names\n",
    "work_safety[\"Country\"][work_safety[\"Country\"] == \"Macau, China\"] = \"Macau\"\n",
    "work_safety[\"Country\"] = cc.convert(names = work_safety[\"Country\"].tolist(), to = 'name_short')"
   ]
  },
  {
   "cell_type": "code",
   "execution_count": 41,
   "metadata": {},
   "outputs": [
    {
     "data": {
      "text/html": [
       "<div>\n",
       "<style scoped>\n",
       "    .dataframe tbody tr th:only-of-type {\n",
       "        vertical-align: middle;\n",
       "    }\n",
       "\n",
       "    .dataframe tbody tr th {\n",
       "        vertical-align: top;\n",
       "    }\n",
       "\n",
       "    .dataframe thead th {\n",
       "        text-align: right;\n",
       "    }\n",
       "</style>\n",
       "<table border=\"1\" class=\"dataframe\">\n",
       "  <thead>\n",
       "    <tr style=\"text-align: right;\">\n",
       "      <th></th>\n",
       "      <th>Country</th>\n",
       "      <th>Year</th>\n",
       "      <th>Injuries_per_100000_Workers</th>\n",
       "    </tr>\n",
       "  </thead>\n",
       "  <tbody>\n",
       "    <tr>\n",
       "      <th>8095</th>\n",
       "      <td>Moldova</td>\n",
       "      <td>2004</td>\n",
       "      <td>88.0</td>\n",
       "    </tr>\n",
       "    <tr>\n",
       "      <th>10703</th>\n",
       "      <td>Russia</td>\n",
       "      <td>2001</td>\n",
       "      <td>482.0</td>\n",
       "    </tr>\n",
       "    <tr>\n",
       "      <th>8863</th>\n",
       "      <td>Mauritius</td>\n",
       "      <td>2001</td>\n",
       "      <td>1300.0</td>\n",
       "    </tr>\n",
       "    <tr>\n",
       "      <th>11204</th>\n",
       "      <td>Slovakia</td>\n",
       "      <td>2000</td>\n",
       "      <td>1071.0</td>\n",
       "    </tr>\n",
       "    <tr>\n",
       "      <th>8882</th>\n",
       "      <td>Mauritius</td>\n",
       "      <td>2008</td>\n",
       "      <td>525.0</td>\n",
       "    </tr>\n",
       "  </tbody>\n",
       "</table>\n",
       "</div>"
      ],
      "text/plain": [
       "         Country  Year  Injuries_per_100000_Workers\n",
       "8095     Moldova  2004                         88.0\n",
       "10703     Russia  2001                        482.0\n",
       "8863   Mauritius  2001                       1300.0\n",
       "11204   Slovakia  2000                       1071.0\n",
       "8882   Mauritius  2008                        525.0"
      ]
     },
     "execution_count": 41,
     "metadata": {},
     "output_type": "execute_result"
    }
   ],
   "source": [
    "work_safety.sample(5)"
   ]
  },
  {
   "cell_type": "markdown",
   "metadata": {},
   "source": [
    "## VDEMS\n",
    "The following are preparations for merging the VDEMs dataset."
   ]
  },
  {
   "cell_type": "code",
   "execution_count": 42,
   "metadata": {},
   "outputs": [],
   "source": [
    "# Selects only the columns I want\n",
    "vdem = vdem[[\"country_name\", \"country_text_id\", \"year\", \"v2x_polyarchy\",\n",
    "             \"v2elsuffrage\", \"v2x_diagacc_osp\", \"v2xca_academ\",\n",
    "#             \"v2mecenefm\", \"v2mecenefi\",\n",
    "#             \"v2csreprss\", \"v2csrlgrep\",  \"v2clgencl\", \"v2cafexch\", \n",
    "             \"v2x_regime\"]]"
   ]
  },
  {
   "cell_type": "code",
   "execution_count": 43,
   "metadata": {},
   "outputs": [],
   "source": [
    "# Renames columns\n",
    "vdem = vdem.rename({\"country_name\":\"Country\", \n",
    "                    \"country_text_id\":\"Code\",\n",
    "                    \"year\":\"Year\", \n",
    "                    \"v2x_polyarchy\":\"EDI\",\n",
    "                    \"v2elsuffrage\":\"Suffrage\",\n",
    "                    \"v2x_diagacc_osp\":\"Diag_Account\",\n",
    "                    \"v2xca_academ\":\"AFI\",\n",
    "#                    \"v2csreprss\":\"CSO_Repression\",\n",
    "#                    \"v2csrlgrep\":\"Religious_Repression\",\n",
    "#                    \"v2mecenefm\":\"Media_Censorship\",\n",
    "#                    \"v2mecenefi\":\"Internet_Censorship\",\n",
    "#                    \"v2clgencl\":\"Political_Group_Equality\",\n",
    "#                    \"v2cafexch\":\"Academic_Exchange_Freedom\",\n",
    "                    \"v2x_regime\":\"Regime_Type\"}, axis = 1)"
   ]
  },
  {
   "cell_type": "code",
   "execution_count": 44,
   "metadata": {},
   "outputs": [],
   "source": [
    "# Adds a column for whether a country is a democracy or not\n",
    "vdem[\"Democracy\"] = np.where((vdem[\"Regime_Type\"] == 0) | (vdem[\"Regime_Type\"] == 1), 0, 1)\n",
    "vdem[\"Democracy\"] = np.where(vdem[\"Regime_Type\"].isna(), np.nan, vdem[\"Democracy\"])"
   ]
  },
  {
   "cell_type": "code",
   "execution_count": 45,
   "metadata": {},
   "outputs": [],
   "source": [
    "# Changes the column to either universal or non-universal suffrage\n",
    "#vdem[\"Universal_Suffrage\"] = np.where((vdem[\"Suffrage_Percent\"] == 100.0), 1, 0)\n",
    "# Sets to 0 for any pure autocracies\n",
    "#vdem[\"Universal_Suffrage\"] = np.where((vdem[\"Regime_Type\"] == 0), 0, vdem[\"Universal_Suffrage\"])"
   ]
  },
  {
   "cell_type": "code",
   "execution_count": 46,
   "metadata": {},
   "outputs": [],
   "source": [
    "# Removes the Regime Type and Suffrage percent column\n",
    "vdem = vdem.drop([\"Regime_Type\"], axis = 1)"
   ]
  },
  {
   "cell_type": "code",
   "execution_count": 47,
   "metadata": {},
   "outputs": [
    {
     "data": {
      "text/html": [
       "<div>\n",
       "<style scoped>\n",
       "    .dataframe tbody tr th:only-of-type {\n",
       "        vertical-align: middle;\n",
       "    }\n",
       "\n",
       "    .dataframe tbody tr th {\n",
       "        vertical-align: top;\n",
       "    }\n",
       "\n",
       "    .dataframe thead th {\n",
       "        text-align: right;\n",
       "    }\n",
       "</style>\n",
       "<table border=\"1\" class=\"dataframe\">\n",
       "  <thead>\n",
       "    <tr style=\"text-align: right;\">\n",
       "      <th></th>\n",
       "      <th>Country</th>\n",
       "      <th>Code</th>\n",
       "      <th>Year</th>\n",
       "      <th>EDI</th>\n",
       "      <th>Suffrage</th>\n",
       "      <th>Diag_Account</th>\n",
       "      <th>AFI</th>\n",
       "      <th>Democracy</th>\n",
       "    </tr>\n",
       "  </thead>\n",
       "  <tbody>\n",
       "    <tr>\n",
       "      <th>13946</th>\n",
       "      <td>Qatar</td>\n",
       "      <td>QAT</td>\n",
       "      <td>1922</td>\n",
       "      <td>0.016</td>\n",
       "      <td>0.0</td>\n",
       "      <td>0.142</td>\n",
       "      <td>NaN</td>\n",
       "      <td>0.0</td>\n",
       "    </tr>\n",
       "    <tr>\n",
       "      <th>21818</th>\n",
       "      <td>Iceland</td>\n",
       "      <td>ISL</td>\n",
       "      <td>2009</td>\n",
       "      <td>0.884</td>\n",
       "      <td>100.0</td>\n",
       "      <td>0.959</td>\n",
       "      <td>NaN</td>\n",
       "      <td>1.0</td>\n",
       "    </tr>\n",
       "    <tr>\n",
       "      <th>19127</th>\n",
       "      <td>Uzbekistan</td>\n",
       "      <td>UZB</td>\n",
       "      <td>2016</td>\n",
       "      <td>0.192</td>\n",
       "      <td>100.0</td>\n",
       "      <td>0.167</td>\n",
       "      <td>0.092</td>\n",
       "      <td>0.0</td>\n",
       "    </tr>\n",
       "    <tr>\n",
       "      <th>10758</th>\n",
       "      <td>Costa Rica</td>\n",
       "      <td>CRI</td>\n",
       "      <td>1957</td>\n",
       "      <td>0.699</td>\n",
       "      <td>100.0</td>\n",
       "      <td>0.897</td>\n",
       "      <td>NaN</td>\n",
       "      <td>1.0</td>\n",
       "    </tr>\n",
       "    <tr>\n",
       "      <th>2823</th>\n",
       "      <td>Brazil</td>\n",
       "      <td>BRA</td>\n",
       "      <td>1978</td>\n",
       "      <td>0.197</td>\n",
       "      <td>70.0</td>\n",
       "      <td>0.271</td>\n",
       "      <td>0.082</td>\n",
       "      <td>0.0</td>\n",
       "    </tr>\n",
       "  </tbody>\n",
       "</table>\n",
       "</div>"
      ],
      "text/plain": [
       "          Country Code  Year    EDI  Suffrage  Diag_Account    AFI  Democracy\n",
       "13946       Qatar  QAT  1922  0.016       0.0         0.142    NaN        0.0\n",
       "21818     Iceland  ISL  2009  0.884     100.0         0.959    NaN        1.0\n",
       "19127  Uzbekistan  UZB  2016  0.192     100.0         0.167  0.092        0.0\n",
       "10758  Costa Rica  CRI  1957  0.699     100.0         0.897    NaN        1.0\n",
       "2823       Brazil  BRA  1978  0.197      70.0         0.271  0.082        0.0"
      ]
     },
     "execution_count": 47,
     "metadata": {},
     "output_type": "execute_result"
    }
   ],
   "source": [
    "vdem.sample(5)"
   ]
  },
  {
   "cell_type": "markdown",
   "metadata": {},
   "source": [
    "## Economic Data\n",
    "The following are preparations for merging the Maddison Project Database (2020)."
   ]
  },
  {
   "cell_type": "code",
   "execution_count": 48,
   "metadata": {},
   "outputs": [],
   "source": [
    "# Transposes the dataframe\n",
    "econ = econ.T.reset_index()"
   ]
  },
  {
   "cell_type": "code",
   "execution_count": 49,
   "metadata": {},
   "outputs": [],
   "source": [
    "# Sets column names to the first row\n",
    "new_header = econ.iloc[0]\n",
    "econ = econ[1:] \n",
    "econ.columns = new_header "
   ]
  },
  {
   "cell_type": "code",
   "execution_count": 50,
   "metadata": {},
   "outputs": [],
   "source": [
    "# Melts such that we get the desired columns\n",
    "econ = pd.melt(econ, \n",
    "               id_vars=[\"GDP pc 2011 prices\", \"year\"], \n",
    "               value_vars = new_header[2:].values )"
   ]
  },
  {
   "cell_type": "code",
   "execution_count": 51,
   "metadata": {},
   "outputs": [],
   "source": [
    "# Resets column names\n",
    "econ = econ.rename({\"GDP pc 2011 prices\":\"Country\", \n",
    "                    \"year\":\"Code\",\n",
    "                    0:\"Year\",\n",
    "                    \"value\":\"GDPpc\"}, axis = 1)"
   ]
  },
  {
   "cell_type": "code",
   "execution_count": 52,
   "metadata": {},
   "outputs": [],
   "source": [
    "# Changes the GDPpc variable to a float from a string\n",
    "econ[\"GDPpc\"] = [float(i) for i in econ[\"GDPpc\"].values]"
   ]
  },
  {
   "cell_type": "code",
   "execution_count": 53,
   "metadata": {},
   "outputs": [
    {
     "data": {
      "text/html": [
       "<div>\n",
       "<style scoped>\n",
       "    .dataframe tbody tr th:only-of-type {\n",
       "        vertical-align: middle;\n",
       "    }\n",
       "\n",
       "    .dataframe tbody tr th {\n",
       "        vertical-align: top;\n",
       "    }\n",
       "\n",
       "    .dataframe thead th {\n",
       "        text-align: right;\n",
       "    }\n",
       "</style>\n",
       "<table border=\"1\" class=\"dataframe\">\n",
       "  <thead>\n",
       "    <tr style=\"text-align: right;\">\n",
       "      <th></th>\n",
       "      <th>Country</th>\n",
       "      <th>Code</th>\n",
       "      <th>Year</th>\n",
       "      <th>GDPpc</th>\n",
       "    </tr>\n",
       "  </thead>\n",
       "  <tbody>\n",
       "    <tr>\n",
       "      <th>99180</th>\n",
       "      <td>Syrian Arab Republic</td>\n",
       "      <td>SYR</td>\n",
       "      <td>1832</td>\n",
       "      <td>NaN</td>\n",
       "    </tr>\n",
       "    <tr>\n",
       "      <th>35676</th>\n",
       "      <td>Belarus</td>\n",
       "      <td>BLR</td>\n",
       "      <td>1457</td>\n",
       "      <td>NaN</td>\n",
       "    </tr>\n",
       "    <tr>\n",
       "      <th>108696</th>\n",
       "      <td>D.R. of the Congo</td>\n",
       "      <td>COD</td>\n",
       "      <td>1889</td>\n",
       "      <td>NaN</td>\n",
       "    </tr>\n",
       "    <tr>\n",
       "      <th>9412</th>\n",
       "      <td>Oman</td>\n",
       "      <td>OMN</td>\n",
       "      <td>1301</td>\n",
       "      <td>NaN</td>\n",
       "    </tr>\n",
       "    <tr>\n",
       "      <th>90420</th>\n",
       "      <td>Armenia</td>\n",
       "      <td>ARM</td>\n",
       "      <td>1781</td>\n",
       "      <td>NaN</td>\n",
       "    </tr>\n",
       "  </tbody>\n",
       "</table>\n",
       "</div>"
      ],
      "text/plain": [
       "                     Country Code  Year  GDPpc\n",
       "99180   Syrian Arab Republic  SYR  1832    NaN\n",
       "35676                Belarus  BLR  1457    NaN\n",
       "108696     D.R. of the Congo  COD  1889    NaN\n",
       "9412                    Oman  OMN  1301    NaN\n",
       "90420                Armenia  ARM  1781    NaN"
      ]
     },
     "execution_count": 53,
     "metadata": {},
     "output_type": "execute_result"
    }
   ],
   "source": [
    "econ.sample(5)"
   ]
  },
  {
   "cell_type": "markdown",
   "metadata": {},
   "source": [
    "## Merging Trimmed Data\n",
    "The data on work safety is commented out as we lose data when merging it for some reason. It's also incredibly sparse."
   ]
  },
  {
   "cell_type": "code",
   "execution_count": 159,
   "metadata": {},
   "outputs": [],
   "source": [
    "# Merges all datasets\n",
    "df = pd.merge(happy, vdem, how = \"left\", on = [\"Code\", \"Year\"])\n",
    "df = df.drop([\"Country_y\"], axis = 1).rename({\"Country_x\":\"Country\"}, axis = 1)\n",
    "df = pd.merge(df, econ, how = \"left\", on = [\"Code\", \"Year\"])\n",
    "df = df.drop([\"Country_y\", \"Code\"], axis = 1).rename({\"Country_x\":\"Country\"}, axis = 1)\n",
    "df = pd.merge(df, hours, how = \"left\", on = [\"Country\", \"Year\"])\n",
    "df = pd.merge(df, unions, how = \"left\", on = [\"Country\", \"Year\"])\n",
    "df = pd.merge(df, union_density, how = \"left\", on = [\"Country\", \"Year\"])\n",
    "df = pd.merge(df, ineq, how = \"left\", on = [\"Country\", \"Year\"])\n",
    "#df = pd.merge(df, work_safety, how = \"left\", on = [\"Country\", \"Year\"])"
   ]
  },
  {
   "cell_type": "code",
   "execution_count": 160,
   "metadata": {},
   "outputs": [],
   "source": [
    "save_df_as_image(df.sample(5), 'Figures/Raw_Data.png')"
   ]
  },
  {
   "cell_type": "code",
   "execution_count": 161,
   "metadata": {},
   "outputs": [
    {
     "data": {
      "text/html": [
       "<div>\n",
       "<style scoped>\n",
       "    .dataframe tbody tr th:only-of-type {\n",
       "        vertical-align: middle;\n",
       "    }\n",
       "\n",
       "    .dataframe tbody tr th {\n",
       "        vertical-align: top;\n",
       "    }\n",
       "\n",
       "    .dataframe thead th {\n",
       "        text-align: right;\n",
       "    }\n",
       "</style>\n",
       "<table border=\"1\" class=\"dataframe\">\n",
       "  <thead>\n",
       "    <tr style=\"text-align: right;\">\n",
       "      <th></th>\n",
       "      <th>Country</th>\n",
       "      <th>Year</th>\n",
       "      <th>Life_Satisfaction</th>\n",
       "      <th>EDI</th>\n",
       "      <th>Suffrage</th>\n",
       "      <th>Diag_Account</th>\n",
       "      <th>AFI</th>\n",
       "      <th>Democracy</th>\n",
       "      <th>GDPpc</th>\n",
       "      <th>Avg_Hours_Worked</th>\n",
       "      <th>U_Coverage</th>\n",
       "      <th>U_Density</th>\n",
       "      <th>Ineq_Diff</th>\n",
       "      <th>Ineq_Frac</th>\n",
       "    </tr>\n",
       "  </thead>\n",
       "  <tbody>\n",
       "    <tr>\n",
       "      <th>708</th>\n",
       "      <td>Israel</td>\n",
       "      <td>2007</td>\n",
       "      <td>6.841115</td>\n",
       "      <td>0.736</td>\n",
       "      <td>100.0</td>\n",
       "      <td>0.863</td>\n",
       "      <td>0.932</td>\n",
       "      <td>1.0</td>\n",
       "      <td>27624.883102</td>\n",
       "      <td>NaN</td>\n",
       "      <td>NaN</td>\n",
       "      <td>NaN</td>\n",
       "      <td>15.602543</td>\n",
       "      <td>6.604031</td>\n",
       "    </tr>\n",
       "    <tr>\n",
       "      <th>482</th>\n",
       "      <td>Estonia</td>\n",
       "      <td>2016</td>\n",
       "      <td>5.649675</td>\n",
       "      <td>0.913</td>\n",
       "      <td>100.0</td>\n",
       "      <td>0.970</td>\n",
       "      <td>0.965</td>\n",
       "      <td>1.0</td>\n",
       "      <td>24857.000000</td>\n",
       "      <td>NaN</td>\n",
       "      <td>NaN</td>\n",
       "      <td>NaN</td>\n",
       "      <td>25.800433</td>\n",
       "      <td>9.143996</td>\n",
       "    </tr>\n",
       "    <tr>\n",
       "      <th>1506</th>\n",
       "      <td>Tanzania</td>\n",
       "      <td>2017</td>\n",
       "      <td>3.347121</td>\n",
       "      <td>0.428</td>\n",
       "      <td>100.0</td>\n",
       "      <td>0.694</td>\n",
       "      <td>0.604</td>\n",
       "      <td>0.0</td>\n",
       "      <td>2762.870255</td>\n",
       "      <td>NaN</td>\n",
       "      <td>NaN</td>\n",
       "      <td>NaN</td>\n",
       "      <td>66.018490</td>\n",
       "      <td>58.458869</td>\n",
       "    </tr>\n",
       "    <tr>\n",
       "      <th>1394</th>\n",
       "      <td>South Korea</td>\n",
       "      <td>2006</td>\n",
       "      <td>5.332178</td>\n",
       "      <td>0.859</td>\n",
       "      <td>100.0</td>\n",
       "      <td>0.931</td>\n",
       "      <td>0.828</td>\n",
       "      <td>1.0</td>\n",
       "      <td>28516.483776</td>\n",
       "      <td>NaN</td>\n",
       "      <td>10.0</td>\n",
       "      <td>10.0</td>\n",
       "      <td>32.292173</td>\n",
       "      <td>15.633798</td>\n",
       "    </tr>\n",
       "    <tr>\n",
       "      <th>269</th>\n",
       "      <td>Canada</td>\n",
       "      <td>2017</td>\n",
       "      <td>7.414868</td>\n",
       "      <td>0.858</td>\n",
       "      <td>100.0</td>\n",
       "      <td>0.938</td>\n",
       "      <td>0.932</td>\n",
       "      <td>1.0</td>\n",
       "      <td>44591.641706</td>\n",
       "      <td>35.7554</td>\n",
       "      <td>NaN</td>\n",
       "      <td>NaN</td>\n",
       "      <td>14.608540</td>\n",
       "      <td>7.207656</td>\n",
       "    </tr>\n",
       "  </tbody>\n",
       "</table>\n",
       "</div>"
      ],
      "text/plain": [
       "          Country  Year  Life_Satisfaction    EDI  Suffrage  Diag_Account  \\\n",
       "708        Israel  2007           6.841115  0.736     100.0         0.863   \n",
       "482       Estonia  2016           5.649675  0.913     100.0         0.970   \n",
       "1506     Tanzania  2017           3.347121  0.428     100.0         0.694   \n",
       "1394  South Korea  2006           5.332178  0.859     100.0         0.931   \n",
       "269        Canada  2017           7.414868  0.858     100.0         0.938   \n",
       "\n",
       "        AFI  Democracy         GDPpc  Avg_Hours_Worked  U_Coverage  U_Density  \\\n",
       "708   0.932        1.0  27624.883102               NaN         NaN        NaN   \n",
       "482   0.965        1.0  24857.000000               NaN         NaN        NaN   \n",
       "1506  0.604        0.0   2762.870255               NaN         NaN        NaN   \n",
       "1394  0.828        1.0  28516.483776               NaN        10.0       10.0   \n",
       "269   0.932        1.0  44591.641706           35.7554         NaN        NaN   \n",
       "\n",
       "      Ineq_Diff  Ineq_Frac  \n",
       "708   15.602543   6.604031  \n",
       "482   25.800433   9.143996  \n",
       "1506  66.018490  58.458869  \n",
       "1394  32.292173  15.633798  \n",
       "269   14.608540   7.207656  "
      ]
     },
     "execution_count": 161,
     "metadata": {},
     "output_type": "execute_result"
    }
   ],
   "source": [
    "df.sample(5)"
   ]
  },
  {
   "cell_type": "code",
   "execution_count": 162,
   "metadata": {},
   "outputs": [],
   "source": [
    "# Saves the new dataframe\n",
    "df.to_csv(\"Data/GeneratedData/Raw_Data.csv\")"
   ]
  },
  {
   "cell_type": "markdown",
   "metadata": {},
   "source": [
    "# Exploration & Cleaning"
   ]
  },
  {
   "cell_type": "markdown",
   "metadata": {},
   "source": [
    "## Missingness"
   ]
  },
  {
   "cell_type": "code",
   "execution_count": 163,
   "metadata": {},
   "outputs": [
    {
     "data": {
      "image/png": "[encoded data removed]",
      "text/plain": [
       "<Figure size 1800x720 with 2 Axes>"
      ]
     },
     "metadata": {
      "needs_background": "light"
     },
     "output_type": "display_data"
    }
   ],
   "source": [
    "miss.matrix(df).set_title(\"Missing Data in Raw Dataset\")\n",
    "plt.savefig(\"Figures/Missing_Data_Raw.png\", dpi = 300, bbox_inches = 'tight')"
   ]
  },
  {
   "cell_type": "code",
   "execution_count": 164,
   "metadata": {},
   "outputs": [
    {
     "data": {
      "text/plain": [
       "Country                 0\n",
       "Year                    0\n",
       "Life_Satisfaction       0\n",
       "EDI                    20\n",
       "Suffrage               20\n",
       "Diag_Account           20\n",
       "AFI                   357\n",
       "Democracy              20\n",
       "GDPpc                  36\n",
       "Avg_Hours_Worked     1330\n",
       "U_Coverage           1141\n",
       "U_Density            1141\n",
       "Ineq_Diff             147\n",
       "Ineq_Frac             147\n",
       "dtype: int64"
      ]
     },
     "execution_count": 164,
     "metadata": {},
     "output_type": "execute_result"
    }
   ],
   "source": [
    "df.isnull().sum(axis = 0)"
   ]
  },
  {
   "cell_type": "markdown",
   "metadata": {},
   "source": [
    "It appears that data on hours worked, union membership, and work safety are incredibly sparse. It is likely these missing values are for the same countries. Another possiblity is that these countries do not allow trade unions, but this seems less likely. Because we will be using fixed effects later, this may prove less important as some countries will then be able to use these features. \n",
    "\n",
    "That said, there appear to be some countries with life satisfaction data but nothing else. Countries missing `Democracy` data will be removed, and this will be stored as a separate dataset."
   ]
  },
  {
   "cell_type": "code",
   "execution_count": 165,
   "metadata": {},
   "outputs": [
    {
     "name": "stdout",
     "output_type": "stream",
     "text": [
      "Number of observations which would be removed: 20\n"
     ]
    },
    {
     "data": {
      "text/plain": [
       "array(['Belize', 'Kosovo', 'Cyprus'], dtype=object)"
      ]
     },
     "execution_count": 165,
     "metadata": {},
     "output_type": "execute_result"
    }
   ],
   "source": [
    "# Entries missing democracy data\n",
    "print(\"Number of observations which would be removed: \" + str(len(df.loc[df[\"Democracy\"].isnull()])))\n",
    "df[\"Country\"].loc[df[\"Democracy\"].isnull()].unique()"
   ]
  },
  {
   "cell_type": "markdown",
   "metadata": {},
   "source": [
    "Above are the countries with little to no data."
   ]
  },
  {
   "cell_type": "code",
   "execution_count": 166,
   "metadata": {},
   "outputs": [],
   "source": [
    "# Removes all data which is missing democracy information\n",
    "df = df.loc[~df[\"Democracy\"].isnull()]"
   ]
  },
  {
   "cell_type": "code",
   "execution_count": 167,
   "metadata": {},
   "outputs": [],
   "source": [
    "# Drops union density rate\n",
    "df = df.drop([\"U_Density\"], axis = 1)"
   ]
  },
  {
   "cell_type": "code",
   "execution_count": 168,
   "metadata": {},
   "outputs": [],
   "source": [
    "# Reorders the indicies\n",
    "df = df.reset_index(drop = True)"
   ]
  },
  {
   "cell_type": "code",
   "execution_count": 169,
   "metadata": {},
   "outputs": [
    {
     "data": {
      "text/plain": [
       "1696"
      ]
     },
     "execution_count": 169,
     "metadata": {},
     "output_type": "execute_result"
    }
   ],
   "source": [
    "len(df)"
   ]
  },
  {
   "cell_type": "code",
   "execution_count": 170,
   "metadata": {},
   "outputs": [],
   "source": [
    "save_df_as_image(df.sample(5), 'Figures/Full_Data.png')"
   ]
  },
  {
   "cell_type": "code",
   "execution_count": 171,
   "metadata": {},
   "outputs": [],
   "source": [
    "# Saves the new dataframe\n",
    "df.to_csv(\"Data/GeneratedData/Cleaned_Data_Full.csv\")"
   ]
  },
  {
   "cell_type": "markdown",
   "metadata": {},
   "source": [
    "We're going to make one more dataset that will impute missing values."
   ]
  },
  {
   "cell_type": "code",
   "execution_count": 172,
   "metadata": {},
   "outputs": [],
   "source": [
    "df_Imputed = df.copy()"
   ]
  },
  {
   "cell_type": "markdown",
   "metadata": {},
   "source": [
    "What's important here is that we are NOT imputing using `Life_Satisfaction`. That would create a causal relationship between the imputed values and happiness, our outcome variable."
   ]
  },
  {
   "cell_type": "code",
   "execution_count": 173,
   "metadata": {},
   "outputs": [
    {
     "data": {
      "text/plain": [
       "IterativeImputer(random_state=0)"
      ]
     },
     "execution_count": 173,
     "metadata": {},
     "output_type": "execute_result"
    }
   ],
   "source": [
    "imp = IterativeImputer(max_iter=10, random_state=0)\n",
    "imp.fit(df.dropna().drop([\"Country\", \"Year\", \"Life_Satisfaction\"], axis = 1))"
   ]
  },
  {
   "cell_type": "code",
   "execution_count": 174,
   "metadata": {},
   "outputs": [],
   "source": [
    "df_Imputed = pd.DataFrame(imp.transform(df.drop([\"Country\", \"Year\", \"Life_Satisfaction\"], axis = 1)), columns = df.columns[3:])"
   ]
  },
  {
   "cell_type": "code",
   "execution_count": 175,
   "metadata": {},
   "outputs": [],
   "source": [
    "df_Imputed = pd.concat([df[[\"Country\", \"Year\", \"Life_Satisfaction\"]], df_Imputed], axis = 1)"
   ]
  },
  {
   "cell_type": "code",
   "execution_count": 176,
   "metadata": {},
   "outputs": [
    {
     "data": {
      "text/html": [
       "<div>\n",
       "<style scoped>\n",
       "    .dataframe tbody tr th:only-of-type {\n",
       "        vertical-align: middle;\n",
       "    }\n",
       "\n",
       "    .dataframe tbody tr th {\n",
       "        vertical-align: top;\n",
       "    }\n",
       "\n",
       "    .dataframe thead th {\n",
       "        text-align: right;\n",
       "    }\n",
       "</style>\n",
       "<table border=\"1\" class=\"dataframe\">\n",
       "  <thead>\n",
       "    <tr style=\"text-align: right;\">\n",
       "      <th></th>\n",
       "      <th>Country</th>\n",
       "      <th>Year</th>\n",
       "      <th>Life_Satisfaction</th>\n",
       "      <th>EDI</th>\n",
       "      <th>Suffrage</th>\n",
       "      <th>Diag_Account</th>\n",
       "      <th>AFI</th>\n",
       "      <th>Democracy</th>\n",
       "      <th>GDPpc</th>\n",
       "      <th>Avg_Hours_Worked</th>\n",
       "      <th>U_Coverage</th>\n",
       "      <th>Ineq_Diff</th>\n",
       "      <th>Ineq_Frac</th>\n",
       "    </tr>\n",
       "  </thead>\n",
       "  <tbody>\n",
       "    <tr>\n",
       "      <th>1273</th>\n",
       "      <td>Saudi Arabia</td>\n",
       "      <td>2018</td>\n",
       "      <td>6.356393</td>\n",
       "      <td>0.019</td>\n",
       "      <td>0.0</td>\n",
       "      <td>0.166</td>\n",
       "      <td>0.243000</td>\n",
       "      <td>0.0</td>\n",
       "      <td>50304.750174</td>\n",
       "      <td>38.305602</td>\n",
       "      <td>24.243099</td>\n",
       "      <td>24.788445</td>\n",
       "      <td>11.031246</td>\n",
       "    </tr>\n",
       "    <tr>\n",
       "      <th>1195</th>\n",
       "      <td>Philippines</td>\n",
       "      <td>2016</td>\n",
       "      <td>5.430833</td>\n",
       "      <td>0.543</td>\n",
       "      <td>100.0</td>\n",
       "      <td>0.875</td>\n",
       "      <td>0.689000</td>\n",
       "      <td>1.0</td>\n",
       "      <td>7410.000000</td>\n",
       "      <td>42.574677</td>\n",
       "      <td>15.658546</td>\n",
       "      <td>36.861634</td>\n",
       "      <td>22.710571</td>\n",
       "    </tr>\n",
       "    <tr>\n",
       "      <th>986</th>\n",
       "      <td>Moldova</td>\n",
       "      <td>2015</td>\n",
       "      <td>6.017472</td>\n",
       "      <td>0.579</td>\n",
       "      <td>100.0</td>\n",
       "      <td>0.769</td>\n",
       "      <td>0.807328</td>\n",
       "      <td>1.0</td>\n",
       "      <td>5775.000000</td>\n",
       "      <td>38.000000</td>\n",
       "      <td>18.756905</td>\n",
       "      <td>25.903781</td>\n",
       "      <td>8.958286</td>\n",
       "    </tr>\n",
       "    <tr>\n",
       "      <th>288</th>\n",
       "      <td>Chile</td>\n",
       "      <td>2007</td>\n",
       "      <td>5.697930</td>\n",
       "      <td>0.902</td>\n",
       "      <td>100.0</td>\n",
       "      <td>0.954</td>\n",
       "      <td>0.938000</td>\n",
       "      <td>1.0</td>\n",
       "      <td>18487.900735</td>\n",
       "      <td>41.763770</td>\n",
       "      <td>14.800000</td>\n",
       "      <td>43.258441</td>\n",
       "      <td>15.180210</td>\n",
       "    </tr>\n",
       "    <tr>\n",
       "      <th>1581</th>\n",
       "      <td>United Arab Emirates</td>\n",
       "      <td>2017</td>\n",
       "      <td>7.039420</td>\n",
       "      <td>0.103</td>\n",
       "      <td>25.0</td>\n",
       "      <td>0.217</td>\n",
       "      <td>0.087000</td>\n",
       "      <td>0.0</td>\n",
       "      <td>76643.498388</td>\n",
       "      <td>35.707562</td>\n",
       "      <td>29.410247</td>\n",
       "      <td>28.481034</td>\n",
       "      <td>11.820825</td>\n",
       "    </tr>\n",
       "  </tbody>\n",
       "</table>\n",
       "</div>"
      ],
      "text/plain": [
       "                   Country  Year  Life_Satisfaction    EDI  Suffrage  \\\n",
       "1273          Saudi Arabia  2018           6.356393  0.019       0.0   \n",
       "1195           Philippines  2016           5.430833  0.543     100.0   \n",
       "986                Moldova  2015           6.017472  0.579     100.0   \n",
       "288                  Chile  2007           5.697930  0.902     100.0   \n",
       "1581  United Arab Emirates  2017           7.039420  0.103      25.0   \n",
       "\n",
       "      Diag_Account       AFI  Democracy         GDPpc  Avg_Hours_Worked  \\\n",
       "1273         0.166  0.243000        0.0  50304.750174         38.305602   \n",
       "1195         0.875  0.689000        1.0   7410.000000         42.574677   \n",
       "986          0.769  0.807328        1.0   5775.000000         38.000000   \n",
       "288          0.954  0.938000        1.0  18487.900735         41.763770   \n",
       "1581         0.217  0.087000        0.0  76643.498388         35.707562   \n",
       "\n",
       "      U_Coverage  Ineq_Diff  Ineq_Frac  \n",
       "1273   24.243099  24.788445  11.031246  \n",
       "1195   15.658546  36.861634  22.710571  \n",
       "986    18.756905  25.903781   8.958286  \n",
       "288    14.800000  43.258441  15.180210  \n",
       "1581   29.410247  28.481034  11.820825  "
      ]
     },
     "execution_count": 176,
     "metadata": {},
     "output_type": "execute_result"
    }
   ],
   "source": [
    "df_Imputed.sample(5)"
   ]
  },
  {
   "cell_type": "code",
   "execution_count": 177,
   "metadata": {},
   "outputs": [
    {
     "data": {
      "text/plain": [
       "Country              0\n",
       "Year                 0\n",
       "Life_Satisfaction    0\n",
       "EDI                  0\n",
       "Suffrage             0\n",
       "Diag_Account         0\n",
       "AFI                  0\n",
       "Democracy            0\n",
       "GDPpc                0\n",
       "Avg_Hours_Worked     0\n",
       "U_Coverage           0\n",
       "Ineq_Diff            0\n",
       "Ineq_Frac            0\n",
       "dtype: int64"
      ]
     },
     "execution_count": 177,
     "metadata": {},
     "output_type": "execute_result"
    }
   ],
   "source": [
    "df_Imputed.isnull().sum(axis = 0)"
   ]
  },
  {
   "cell_type": "code",
   "execution_count": 178,
   "metadata": {},
   "outputs": [],
   "source": [
    "save_df_as_image(df_Imputed.sample(5), 'Figures/Imputed_Data.png')"
   ]
  },
  {
   "cell_type": "code",
   "execution_count": 179,
   "metadata": {},
   "outputs": [],
   "source": [
    "# Saves the new dataframe\n",
    "df_Imputed.drop([\"Year\", \"Ineq_Diff\", \"Democracy\"],axis = 1).to_csv(\"Data/GeneratedData/Cleaned_Data_Imputed.csv\")"
   ]
  },
  {
   "cell_type": "markdown",
   "metadata": {},
   "source": [
    "## Correlation"
   ]
  },
  {
   "cell_type": "code",
   "execution_count": 180,
   "metadata": {},
   "outputs": [
    {
     "data": {
      "image/png": "[encoded data removed]",
      "text/plain": [
       "<Figure size 792x648 with 2 Axes>"
      ]
     },
     "metadata": {
      "needs_background": "light"
     },
     "output_type": "display_data"
    }
   ],
   "source": [
    "# The following code was modified from this python example:\n",
    "# https://seaborn.pydata.org/examples/many_pairwise_correlations.html\n",
    "\n",
    "# Rename columns for visualization\n",
    "df_corr = df.rename({\"Diag_Account\": \"Diagonal Accounability\",\n",
    "                     \"EDI\": \"Electoral Democracy Index\", \n",
    "                     \"Suffrage\":\"Percent of Adult Population with Suffrage\", \n",
    "                     \"GDPpc\":\"GDP per Capita (2011 Prices)\", \n",
    "                     \"Avg_Hours_Worked\":\"Average Hours Worked\", \n",
    "                     \"U_Coverage\":\"Percent of Workforce Unionized\", \n",
    "                     \"Ineq_Frac\":\"Fractional Inequality\", \n",
    "                     \"Ineq_Diff\":\"Differential Inequality\", \n",
    "                     \"AFI\":\"Academic Freedom Index\",\n",
    "                     \"Democracy\":\"Democracy Binary\"}, axis = 1)\n",
    "\n",
    "# Determines the correlation between variables\n",
    "corr = df_corr.drop([\"Life_Satisfaction\"],axis=1).corr()\n",
    "\n",
    "# Generate a mask for the upper triangle\n",
    "mask = np.triu(np.ones_like(corr, dtype=bool))\n",
    "\n",
    "# Set up the matplotlib figure\n",
    "f, ax = plt.subplots(figsize=(11, 9))\n",
    "\n",
    "# Draw the heatmap with the mask and correct aspect ratio\n",
    "sns.heatmap(corr, mask=mask, cmap= cm.get_cmap('RdBu'), vmax=.3, center=0,\n",
    "            square=True, linewidths=.5, cbar_kws={\"shrink\": .5, \"label\": \"Pearson's r\"}).set_title(\"Feature Correlation - Full Data\")\n",
    "plt.savefig(\"Figures/Feat_Corr_Raw.png\", dpi = 300, bbox_inches = 'tight')"
   ]
  },
  {
   "cell_type": "markdown",
   "metadata": {},
   "source": [
    "There is one instance of extreme multicollinearity between the input variables, being for GDPpc and inequality (difference). There is moderate correlation. For the variables from VDEM, regime type is calculated using the electoral democracy index. Only one of the variables for unions should be used, as they are likely causally related. Otherwise, there do not appear to be causal links between any other variables.\n",
    "\n",
    "Inequality difference seems to correlate moderately or extremely with most variables, and as such, we will use the inequality fraction function."
   ]
  },
  {
   "cell_type": "code",
   "execution_count": 181,
   "metadata": {},
   "outputs": [],
   "source": [
    "# Keeps only required variables\n",
    "df = df[[\"Country\", \"Life_Satisfaction\", \"Diag_Account\", \"EDI\", \"Suffrage\", \n",
    "         \"GDPpc\", \"Avg_Hours_Worked\", \"U_Coverage\", \"Ineq_Frac\", \"AFI\"]]"
   ]
  },
  {
   "cell_type": "code",
   "execution_count": 182,
   "metadata": {},
   "outputs": [
    {
     "data": {
      "image/png": "[encoded data removed]",
      "text/plain": [
       "<Figure size 792x648 with 2 Axes>"
      ]
     },
     "metadata": {
      "needs_background": "light"
     },
     "output_type": "display_data"
    }
   ],
   "source": [
    "# The following code was modified from this python example:\n",
    "# https://seaborn.pydata.org/examples/many_pairwise_correlations.html\n",
    "\n",
    "# Rename columns for visualization\n",
    "df_corr = df.rename({\"Diag_Account\": \"Diagonal Accounability\",\n",
    "                     \"EDI\": \"Electoral Democracy\", \n",
    "                     \"Suffrage\":\".                                    Suffrage Percent\", \n",
    "                     \"GDPpc\":\"GDP per Capita\", \n",
    "                     \"Avg_Hours_Worked\":\"Average Hours Worked\", \n",
    "                     \"U_Coverage\":\"Workforce Unionization\", \n",
    "                     \"Ineq_Frac\":\"Fractional Inequality\", \n",
    "                     \"AFI\":\"Academic Freedom\"}, axis = 1)\n",
    "\n",
    "# Determines the correlation between variables\n",
    "corr = df_corr.drop([\"Life_Satisfaction\"],axis=1).corr()\n",
    "\n",
    "# Generate a mask for the upper triangle\n",
    "mask = np.triu(np.ones_like(corr, dtype=bool))\n",
    "\n",
    "# Set up the matplotlib figure\n",
    "f, ax = plt.subplots(figsize=(11, 9))\n",
    "\n",
    "# Draw the heatmap with the mask and correct aspect ratio\n",
    "sns.heatmap(corr, mask=mask, cmap= cm.get_cmap('RdBu'), vmax=.3, center=0,\n",
    "            square=True, linewidths=.5, cbar_kws={\"shrink\": .5, \"label\": \"Pearson's r\"}).set_title(\"Feature Correlation\")\n",
    "plt.savefig(\"Figures/Feat_Corr_Reduced.png\", dpi = 300, bbox_inches = 'tight')"
   ]
  },
  {
   "cell_type": "markdown",
   "metadata": {},
   "source": [
    "Just to check some of the highly correlated values, see the scatterplots below."
   ]
  },
  {
   "cell_type": "code",
   "execution_count": 183,
   "metadata": {},
   "outputs": [
    {
     "data": {
      "image/png": "[encoded data removed]",
      "text/plain": [
       "<Figure size 432x288 with 1 Axes>"
      ]
     },
     "metadata": {
      "needs_background": "light"
     },
     "output_type": "display_data"
    }
   ],
   "source": [
    "plt.scatter(df[\"U_Coverage\"], df[\"Avg_Hours_Worked\"])\n",
    "plt.title(\"Union Coverage vs. Average Hours Worked\")\n",
    "plt.xlabel(\"Average Hours Worked (Weekly)\")\n",
    "plt.ylabel(\"Collective Bargaining Contract Coverage (% of Workforce)\")\n",
    "plt.savefig(\"Figures/Scatter_UCover_Hours.png\", dpi = 300, bbox_inches = 'tight')"
   ]
  },
  {
   "cell_type": "code",
   "execution_count": 184,
   "metadata": {},
   "outputs": [
    {
     "data": {
      "image/png": "[encoded data removed]",
      "text/plain": [
       "<Figure size 432x288 with 1 Axes>"
      ]
     },
     "metadata": {
      "needs_background": "light"
     },
     "output_type": "display_data"
    }
   ],
   "source": [
    "plt.scatter(df[\"EDI\"], df[\"AFI\"])\n",
    "plt.title(\"Electoral Democracy Index vs Academic Freedom Index\")\n",
    "plt.xlabel(\"Electoral Democracy Index\")\n",
    "plt.ylabel(\"Academic Freedom Index\")\n",
    "plt.savefig(\"Figures/Scatter_DemIndex_AcaIndex.png\", dpi = 300, bbox_inches = 'tight')"
   ]
  },
  {
   "cell_type": "code",
   "execution_count": 185,
   "metadata": {},
   "outputs": [
    {
     "data": {
      "image/png": "[encoded data removed]",
      "text/plain": [
       "<Figure size 432x288 with 1 Axes>"
      ]
     },
     "metadata": {
      "needs_background": "light"
     },
     "output_type": "display_data"
    }
   ],
   "source": [
    "plt.scatter(df[\"EDI\"], df[\"Diag_Account\"])\n",
    "plt.title(\"Electoral Democracy Index vs Diagonal Accountability\")\n",
    "plt.xlabel(\"Electoral Democracy Index\")\n",
    "plt.ylabel(\"Diagonal Accountability\")\n",
    "plt.savefig(\"Figures/Scatter_DemIndex_Accountability.png\", dpi = 300, bbox_inches = 'tight')"
   ]
  },
  {
   "cell_type": "code",
   "execution_count": 186,
   "metadata": {},
   "outputs": [
    {
     "data": {
      "image/png": "[encoded data removed]",
      "text/plain": [
       "<Figure size 432x288 with 1 Axes>"
      ]
     },
     "metadata": {
      "needs_background": "light"
     },
     "output_type": "display_data"
    }
   ],
   "source": [
    "plt.scatter(df[\"GDPpc\"], df[\"Ineq_Frac\"])\n",
    "plt.title(\"GDP per Capita vs Inequality\")\n",
    "plt.xlabel(\"GDP per Capita (2011 Prices)\")\n",
    "plt.ylabel(\"Inequality (Top 20%'s vs. Bottom 20%'s Earnings)\")\n",
    "plt.savefig(\"Figures/Scatter_GDPpc_Ineq.png\", dpi = 300, bbox_inches = 'tight')"
   ]
  },
  {
   "cell_type": "code",
   "execution_count": 187,
   "metadata": {},
   "outputs": [
    {
     "data": {
      "image/png": "[encoded data removed]",
      "text/plain": [
       "<Figure size 432x288 with 1 Axes>"
      ]
     },
     "metadata": {
      "needs_background": "light"
     },
     "output_type": "display_data"
    }
   ],
   "source": [
    "plt.scatter(df[\"GDPpc\"], df[\"EDI\"])\n",
    "plt.title(\"GDP per Capita vs Electoral Democracy Index\")\n",
    "plt.xlabel(\"GDP per Capita (2011 Prices)\")\n",
    "plt.ylabel(\"Electoral Democracy Index\")\n",
    "plt.savefig(\"Figures/Scatter_GDPpc_DemIndex.png\", dpi = 300, bbox_inches = 'tight')"
   ]
  },
  {
   "cell_type": "code",
   "execution_count": 188,
   "metadata": {},
   "outputs": [
    {
     "data": {
      "image/png": "[encoded data removed]",
      "text/plain": [
       "<Figure size 432x288 with 1 Axes>"
      ]
     },
     "metadata": {
      "needs_background": "light"
     },
     "output_type": "display_data"
    }
   ],
   "source": [
    "plt.scatter(df[\"GDPpc\"], df[\"Avg_Hours_Worked\"])\n",
    "plt.title(\"GDP per Capita vs Hours Worked\")\n",
    "plt.xlabel(\"GDP per Capita (2011 Prices)\")\n",
    "plt.ylabel(\"Average Hours Worked (Weekly)\")\n",
    "plt.savefig(\"Figures/Scatter_GDPpc_Hours.png\", dpi = 300, bbox_inches = 'tight')"
   ]
  },
  {
   "cell_type": "markdown",
   "metadata": {},
   "source": [
    "We now have a set of descriptive variables, each controlling for different aspects of a nation's government, economy, and working conditions."
   ]
  },
  {
   "cell_type": "code",
   "execution_count": 189,
   "metadata": {},
   "outputs": [],
   "source": [
    "# Removes all data which is missing AFI information\n",
    "df = df.loc[~df[\"AFI\"].isnull()]\n",
    "\n",
    "# Removes all data which is missing Fractional Inequality information\n",
    "df = df.loc[~df[\"Ineq_Frac\"].isnull()]\n",
    "\n",
    "# Removes all data which is missing GDP per Capita information\n",
    "df = df.loc[~df[\"GDPpc\"].isnull()]"
   ]
  },
  {
   "cell_type": "code",
   "execution_count": 190,
   "metadata": {},
   "outputs": [],
   "source": [
    "df = df.drop([\"Avg_Hours_Worked\", \"U_Coverage\"], axis = 1)"
   ]
  },
  {
   "cell_type": "code",
   "execution_count": 191,
   "metadata": {},
   "outputs": [
    {
     "data": {
      "text/plain": [
       "Country              0\n",
       "Life_Satisfaction    0\n",
       "Diag_Account         0\n",
       "EDI                  0\n",
       "Suffrage             0\n",
       "GDPpc                0\n",
       "Ineq_Frac            0\n",
       "AFI                  0\n",
       "dtype: int64"
      ]
     },
     "execution_count": 191,
     "metadata": {},
     "output_type": "execute_result"
    }
   ],
   "source": [
    "df.isnull().sum(axis = 0)"
   ]
  },
  {
   "cell_type": "code",
   "execution_count": 192,
   "metadata": {},
   "outputs": [],
   "source": [
    "save_df_as_image(df.sample(5), 'Figures/Restricted_Data.png')"
   ]
  },
  {
   "cell_type": "code",
   "execution_count": 193,
   "metadata": {},
   "outputs": [],
   "source": [
    "# Saves the new dataframe\n",
    "df.to_csv(\"Data/GeneratedData/Cleaned_Data_Restricted.csv\")"
   ]
  }
 ],
 "metadata": {
  "kernelspec": {
   "display_name": "Python 3",
   "language": "python",
   "name": "python3"
  },
  "language_info": {
   "codemirror_mode": {
    "name": "ipython",
    "version": 3
   },
   "file_extension": ".py",
   "mimetype": "text/x-python",
   "name": "python",
   "nbconvert_exporter": "python",
   "pygments_lexer": "ipython3",
   "version": "3.8.6"
  }
 },
 "nbformat": 4,
 "nbformat_minor": 4
}
